{
  "nbformat": 4,
  "nbformat_minor": 0,
  "metadata": {
    "accelerator": "GPU",
    "colab": {
      "name": "Attention_LSTM.ipynb",
      "provenance": [],
      "collapsed_sections": []
    },
    "kernelspec": {
      "display_name": "Python 3",
      "name": "python3"
    }
  },
  "cells": [
    {
      "cell_type": "markdown",
      "metadata": {
        "id": "J7u6kL7HmG7b"
      },
      "source": [
        "<h1>Natural Language Processing with Disaster Tweets</h1>\r\n",
        "\r\n",
        "<b>Predict which Tweets are about real disasters and which ones are not</b>\r\n",
        "\r\n",
        "<h2>Getting Started</h2>\r\n",
        "\r\n",
        "This particular challenge is perfect for data scientists looking to get started with Natural Language Processing. The competition dataset is not too big, and even if you don’t have much personal computing power, you can do all of the work in our free, no-setup, Jupyter Notebooks environment called Kaggle Notebooks.\r\n",
        "\r\n",
        "Link: https://www.kaggle.com/c/nlp-getting-started\r\n",
        "\r\n",
        "<h2>Dataset</h2>\r\n",
        "\r\n",
        "The project contains 3 datasets.\r\n",
        "1. train.csv - the training set\r\n",
        "2. test.csv - the test set\r\n",
        "3. sample_submission.csv - a sample submission file in the correct format\r\n",
        "\r\n",
        "<h3>train.csv</h3>\r\n",
        "\r\n",
        "Each sample in the train and test set has the following information:\r\n",
        "\r\n",
        "1. The <b>text</b> of a tweet\r\n",
        "2. A <b>keyword</b> from that tweet (although this may be blank!)\r\n",
        "3. The <b>location</b> the tweet was sent from (may also be blank)\r\n",
        "\r\n",
        "We are predicting whether a given tweet is about a real disaster or not. If so, predict a 1. If not, predict a 0.\r\n",
        "\r\n",
        "<h4>Columns</h4>\r\n",
        "\r\n",
        "1. id - a unique identifier for each tweet\r\n",
        "2. text - the text of the tweet\r\n",
        "3. location - the location the tweet was sent from (may be blank)\r\n",
        "4. keyword - a particular keyword from the tweet (may be blank)\r\n",
        "5. target - in train.csv only, this denotes whether a tweet is about a real disaster (1) or not (0)\r\n",
        "\r\n",
        "<h2>Evaluation</h2>\r\n",
        "\r\n",
        "Submissions are evaluated using <b>F1</b> between the predicted and expected answers.\r\n"
      ]
    },
    {
      "cell_type": "markdown",
      "metadata": {
        "id": "S9kxG5L3oLG6"
      },
      "source": [
        "<h1>1. Import Dataset and Libraries</h1>"
      ]
    },
    {
      "cell_type": "code",
      "metadata": {
        "colab": {
          "base_uri": "https://localhost:8080/"
        },
        "id": "XlOba6BUmlUV",
        "outputId": "64c1096a-8258-48db-f0ee-997243d06f8f"
      },
      "source": [
        "import warnings\r\n",
        "warnings.filterwarnings('ignore')\r\n",
        "\r\n",
        "import re\r\n",
        "import nltk\r\n",
        "import pickle\r\n",
        "import operator\r\n",
        "import numpy as np\r\n",
        "import pandas as pd\r\n",
        "from tqdm import tqdm\r\n",
        "import seaborn as sns\r\n",
        "import matplotlib.pyplot as pt\r\n",
        "import sklearn\r\n",
        "\r\n",
        "from collections import defaultdict\r\n",
        "from nltk.corpus import stopwords\r\n",
        "from nltk.stem import PorterStemmer, WordNetLemmatizer\r\n",
        "from nltk.tokenize import sent_tokenize, word_tokenize\r\n",
        "\r\n",
        "import tensorflow as tf\r\n",
        "import tensorflow_hub\r\n",
        "import transformers\r\n",
        "from tensorflow.keras import backend as K\r\n",
        "from tensorflow.keras.backend import clear_session\r\n",
        "from tensorflow.keras.callbacks import EarlyStopping \r\n",
        "from tensorflow.keras import Model\r\n",
        "from tensorflow.keras.layers import Dense, Input, Dropout, Flatten, Embedding, LSTM, Activation"
      ],
      "execution_count": null,
      "outputs": [
        {
          "output_type": "stream",
          "text": [
            "[nltk_data] Downloading package punkt to /root/nltk_data...\n",
            "[nltk_data]   Unzipping tokenizers/punkt.zip.\n",
            "[nltk_data] Downloading package wordnet to /root/nltk_data...\n",
            "[nltk_data]   Unzipping corpora/wordnet.zip.\n",
            "[nltk_data] Downloading package stopwords to /root/nltk_data...\n",
            "[nltk_data]   Unzipping corpora/stopwords.zip.\n"
          ],
          "name": "stdout"
        }
      ]
    },
    {
      "cell_type": "code",
      "metadata": {
        "colab": {
          "base_uri": "https://localhost:8080/"
        },
        "id": "2vWGFZO1oZvv",
        "outputId": "5832eead-6fb4-442c-a732-569d2ee42c3a"
      },
      "source": [
        "%%time\r\n",
        "train_df = pd.read_csv(\"/content/drive/MyDrive/Data/train.csv\")\r\n",
        "test_df = pd.read_csv(\"/content/drive/MyDrive/Data/test.csv\")"
      ],
      "execution_count": null,
      "outputs": [
        {
          "output_type": "stream",
          "text": [
            "CPU times: user 27.4 ms, sys: 9.95 ms, total: 37.4 ms\n",
            "Wall time: 2.19 s\n"
          ],
          "name": "stdout"
        }
      ]
    },
    {
      "cell_type": "code",
      "metadata": {
        "colab": {
          "base_uri": "https://localhost:8080/",
          "height": 202
        },
        "id": "1Eq0ZfP6o1rU",
        "outputId": "5112ffd3-0ef3-44f3-8998-7e27c553c2d5"
      },
      "source": [
        "train_df.head()"
      ],
      "execution_count": null,
      "outputs": [
        {
          "output_type": "execute_result",
          "data": {
            "text/html": [
              "<div>\n",
              "<style scoped>\n",
              "    .dataframe tbody tr th:only-of-type {\n",
              "        vertical-align: middle;\n",
              "    }\n",
              "\n",
              "    .dataframe tbody tr th {\n",
              "        vertical-align: top;\n",
              "    }\n",
              "\n",
              "    .dataframe thead th {\n",
              "        text-align: right;\n",
              "    }\n",
              "</style>\n",
              "<table border=\"1\" class=\"dataframe\">\n",
              "  <thead>\n",
              "    <tr style=\"text-align: right;\">\n",
              "      <th></th>\n",
              "      <th>id</th>\n",
              "      <th>keyword</th>\n",
              "      <th>location</th>\n",
              "      <th>text</th>\n",
              "      <th>target</th>\n",
              "    </tr>\n",
              "  </thead>\n",
              "  <tbody>\n",
              "    <tr>\n",
              "      <th>0</th>\n",
              "      <td>1</td>\n",
              "      <td>NaN</td>\n",
              "      <td>NaN</td>\n",
              "      <td>Our Deeds are the Reason of this #earthquake M...</td>\n",
              "      <td>1</td>\n",
              "    </tr>\n",
              "    <tr>\n",
              "      <th>1</th>\n",
              "      <td>4</td>\n",
              "      <td>NaN</td>\n",
              "      <td>NaN</td>\n",
              "      <td>Forest fire near La Ronge Sask. Canada</td>\n",
              "      <td>1</td>\n",
              "    </tr>\n",
              "    <tr>\n",
              "      <th>2</th>\n",
              "      <td>5</td>\n",
              "      <td>NaN</td>\n",
              "      <td>NaN</td>\n",
              "      <td>All residents asked to 'shelter in place' are ...</td>\n",
              "      <td>1</td>\n",
              "    </tr>\n",
              "    <tr>\n",
              "      <th>3</th>\n",
              "      <td>6</td>\n",
              "      <td>NaN</td>\n",
              "      <td>NaN</td>\n",
              "      <td>13,000 people receive #wildfires evacuation or...</td>\n",
              "      <td>1</td>\n",
              "    </tr>\n",
              "    <tr>\n",
              "      <th>4</th>\n",
              "      <td>7</td>\n",
              "      <td>NaN</td>\n",
              "      <td>NaN</td>\n",
              "      <td>Just got sent this photo from Ruby #Alaska as ...</td>\n",
              "      <td>1</td>\n",
              "    </tr>\n",
              "  </tbody>\n",
              "</table>\n",
              "</div>"
            ],
            "text/plain": [
              "   id keyword  ...                                               text target\n",
              "0   1     NaN  ...  Our Deeds are the Reason of this #earthquake M...      1\n",
              "1   4     NaN  ...             Forest fire near La Ronge Sask. Canada      1\n",
              "2   5     NaN  ...  All residents asked to 'shelter in place' are ...      1\n",
              "3   6     NaN  ...  13,000 people receive #wildfires evacuation or...      1\n",
              "4   7     NaN  ...  Just got sent this photo from Ruby #Alaska as ...      1\n",
              "\n",
              "[5 rows x 5 columns]"
            ]
          },
          "metadata": {
            "tags": []
          },
          "execution_count": 4
        }
      ]
    },
    {
      "cell_type": "code",
      "metadata": {
        "colab": {
          "base_uri": "https://localhost:8080/"
        },
        "id": "KY3_MAeIo7tn",
        "outputId": "2eca5ea0-160e-49c4-98cc-1832d95c0aa6"
      },
      "source": [
        "print(\"Shape of the train dataset is:\",train_df.shape)\r\n",
        "print(\"Shape of the test dataset is:\",test_df.shape)"
      ],
      "execution_count": null,
      "outputs": [
        {
          "output_type": "stream",
          "text": [
            "Shape of the train dataset is: (7613, 5)\n",
            "Shape of the test dataset is: (3263, 4)\n"
          ],
          "name": "stdout"
        }
      ]
    },
    {
      "cell_type": "markdown",
      "metadata": {
        "id": "5jPSnRtQpJOz"
      },
      "source": [
        "<h2>1.1 checking for missing values</h2>"
      ]
    },
    {
      "cell_type": "code",
      "metadata": {
        "colab": {
          "base_uri": "https://localhost:8080/"
        },
        "id": "a6yGJSWBpLxh",
        "outputId": "4ca7f5b7-0c3a-43c6-d551-00b3dcecc7ce"
      },
      "source": [
        "missing_status = train_df.isna().any().any()\r\n",
        "print(\"Are there any missing values present in the dataset?\")\r\n",
        "print('No' if missing_status==False else \"Yes\")"
      ],
      "execution_count": null,
      "outputs": [
        {
          "output_type": "stream",
          "text": [
            "Are there any missing values present in the dataset?\n",
            "Yes\n"
          ],
          "name": "stdout"
        }
      ]
    },
    {
      "cell_type": "code",
      "metadata": {
        "colab": {
          "base_uri": "https://localhost:8080/"
        },
        "id": "umWKmDP_pQzu",
        "outputId": "f39886e1-7f34-4085-c330-4dfb0ef88bf6"
      },
      "source": [
        "train_df.apply(lambda x: sum(x.isnull()),axis=0)"
      ],
      "execution_count": null,
      "outputs": [
        {
          "output_type": "execute_result",
          "data": {
            "text/plain": [
              "id             0\n",
              "keyword       61\n",
              "location    2533\n",
              "text           0\n",
              "target         0\n",
              "dtype: int64"
            ]
          },
          "metadata": {
            "tags": []
          },
          "execution_count": 9
        }
      ]
    },
    {
      "cell_type": "markdown",
      "metadata": {
        "id": "18Hw5jKnpV5m"
      },
      "source": [
        "<pre>Keywards and location data has some amount of missing values here. As we are not dealing with these features, we don't need to fill the NA values.</pre>"
      ]
    },
    {
      "cell_type": "markdown",
      "metadata": {
        "id": "tMiFVINYpj87"
      },
      "source": [
        "<h2>1.2 checking for duplicate rows</h2>"
      ]
    },
    {
      "cell_type": "code",
      "metadata": {
        "colab": {
          "base_uri": "https://localhost:8080/"
        },
        "id": "v0VaLKxdpgBV",
        "outputId": "b68545f5-f448-4c18-b4b1-927218bb78cc"
      },
      "source": [
        "duplicate_status = len(train_df[train_df[\"text\"].duplicated()])\r\n",
        "print(\"Are there any duplicate rows present in the dataset?\")\r\n",
        "print('No' if duplicate_status==0 else \"Yes\")"
      ],
      "execution_count": null,
      "outputs": [
        {
          "output_type": "stream",
          "text": [
            "Are there any duplicate rows present in the dataset?\n",
            "Yes\n"
          ],
          "name": "stdout"
        }
      ]
    },
    {
      "cell_type": "code",
      "metadata": {
        "colab": {
          "base_uri": "https://localhost:8080/"
        },
        "id": "JgRfVvEkpqmw",
        "outputId": "dfca0fe8-37ad-4eaa-ef52-98416680cc5c"
      },
      "source": [
        "#using groupby to get counts\r\n",
        "temp_df = train_df.groupby(['text']).size().reset_index(name='counts')\r\n",
        "#number of duplicate rows\r\n",
        "print(\"There are {} sentences in the dataset which has occured more than once.\"\r\n",
        "      .format(len(temp_df[temp_df[\"counts\"] > 1])))\r\n",
        "#duplicate rows\r\n",
        "print(\"They are:\\n\",temp_df[temp_df[\"counts\"] > 1])"
      ],
      "execution_count": null,
      "outputs": [
        {
          "output_type": "stream",
          "text": [
            "There are 69 sentences in the dataset which has occured more than once.\n",
            "They are:\n",
            "                                                    text  counts\n",
            "24    #Allah describes piling up #wealth thinking it...       3\n",
            "45    #Bestnaijamade: 16yr old PKK suicide bomber wh...       6\n",
            "115   #KCA #VoteJKT48ID 12News: UPDATE: A family of ...       2\n",
            "141   #Myanmar  Displaced #Rohingya at #Sittwe point...       2\n",
            "157   #Newswatch: 2 vehicles collided at Lock and La...       2\n",
            "...                                                 ...     ...\n",
            "7237  incident with injury:I-495  inner loop Exit 31...       2\n",
            "7265  like for the music video I want some real acti...       2\n",
            "7371  that exploded &amp; brought about the\\nbeginni...       2\n",
            "7372  that horrible sinking feeling when youÛªve be...       4\n",
            "7449  wowo--=== 12000 Nigerian refugees repatriated ...       2\n",
            "\n",
            "[69 rows x 2 columns]\n"
          ],
          "name": "stdout"
        }
      ]
    },
    {
      "cell_type": "code",
      "metadata": {
        "colab": {
          "base_uri": "https://localhost:8080/"
        },
        "id": "rz_Cvn3epwdo",
        "outputId": "9e3b2807-399e-4b79-aefc-73cd1045c57d"
      },
      "source": [
        "print(\"Before dropping duplicates total rows present : {}\".format(train_df[\"text\"].shape[0]))\r\n",
        "#dropping duplicates\r\n",
        "df = train_df.drop_duplicates(subset =\"text\") \r\n",
        "print(\"After dropping duplicates total rows present : {}\".format(df[\"text\"].shape[0]))"
      ],
      "execution_count": null,
      "outputs": [
        {
          "output_type": "stream",
          "text": [
            "Before dropping duplicates total rows present : 7613\n",
            "After dropping duplicates total rows present : 7503\n"
          ],
          "name": "stdout"
        }
      ]
    },
    {
      "cell_type": "markdown",
      "metadata": {
        "id": "mj33wsspp7S2"
      },
      "source": [
        "<h2>1.3 info of features</h2>"
      ]
    },
    {
      "cell_type": "code",
      "metadata": {
        "colab": {
          "base_uri": "https://localhost:8080/"
        },
        "id": "ibcxErQfp8sT",
        "outputId": "ba22601a-b1eb-469c-b75b-3800a105b1c5"
      },
      "source": [
        "#getting features type information\r\n",
        "df.info()"
      ],
      "execution_count": null,
      "outputs": [
        {
          "output_type": "stream",
          "text": [
            "<class 'pandas.core.frame.DataFrame'>\n",
            "Int64Index: 7503 entries, 0 to 7612\n",
            "Data columns (total 5 columns):\n",
            " #   Column    Non-Null Count  Dtype \n",
            "---  ------    --------------  ----- \n",
            " 0   id        7503 non-null   int64 \n",
            " 1   keyword   7447 non-null   object\n",
            " 2   location  5021 non-null   object\n",
            " 3   text      7503 non-null   object\n",
            " 4   target    7503 non-null   int64 \n",
            "dtypes: int64(2), object(3)\n",
            "memory usage: 351.7+ KB\n"
          ],
          "name": "stdout"
        }
      ]
    },
    {
      "cell_type": "markdown",
      "metadata": {
        "id": "vgrq6K9hqAyk"
      },
      "source": [
        "<h2>1.4 target value analysis</h2>"
      ]
    },
    {
      "cell_type": "code",
      "metadata": {
        "colab": {
          "base_uri": "https://localhost:8080/",
          "height": 445
        },
        "id": "3HCD8MmmqEXq",
        "outputId": "48355946-8a02-40c6-ee80-8ef3a7bbe8d0"
      },
      "source": [
        "#number of questions in the train dataset in both the class\r\n",
        "targets = df['target'].value_counts()\r\n",
        "print('Positive Tweets : ',targets[1])\r\n",
        "print('Negative Tweets : ',targets[0])\r\n",
        "\r\n",
        "labels = 'Positive', 'Negative'\r\n",
        "values = [targets[1], targets[0]]\r\n",
        "explode = (0, 0.01)\r\n",
        "fig = pt.figure(figsize=(15,7))\r\n",
        "pt.pie(values, explode=explode, labels=labels, autopct='%1.1f%%', shadow=True, startangle=30)\r\n",
        "pt.show()"
      ],
      "execution_count": null,
      "outputs": [
        {
          "output_type": "stream",
          "text": [
            "Positive Tweets :  3198\n",
            "Negative Tweets :  4305\n"
          ],
          "name": "stdout"
        },
        {
          "output_type": "display_data",
          "data": {
            "image/png": "[encoded data removed]",
            "text/plain": [
              "<Figure size 1080x504 with 1 Axes>"
            ]
          },
          "metadata": {
            "tags": []
          }
        }
      ]
    },
    {
      "cell_type": "markdown",
      "metadata": {
        "id": "X-88oZGJqIYf"
      },
      "source": [
        "<pre>\r\n",
        "Target value seems like a partially imbalance dataset where 43% belongs to positive class and rest negative.</pre>"
      ]
    },
    {
      "cell_type": "markdown",
      "metadata": {
        "id": "3nQu2Q_gqcAf"
      },
      "source": [
        "<h2>1.5 tweet analysis</h2>"
      ]
    },
    {
      "cell_type": "code",
      "metadata": {
        "colab": {
          "base_uri": "https://localhost:8080/"
        },
        "id": "Etnwv2XQqXTV",
        "outputId": "2156e968-a656-449d-a967-01f6f49f3934"
      },
      "source": [
        "#positive tweets\r\n",
        "print(\"Positive Tweets: \")\r\n",
        "print(df[df['target'] == 1][\"text\"].values[0])\r\n",
        "print(df[df['target'] == 1][\"text\"].values[3])\r\n",
        "#negative tweets\r\n",
        "print(\"\\nNegative Tweets: \")\r\n",
        "print(df[df['target'] == 0][\"text\"].values[0])\r\n",
        "print(df[df['target'] == 0][\"text\"].values[3])"
      ],
      "execution_count": null,
      "outputs": [
        {
          "output_type": "stream",
          "text": [
            "Positive Tweets: \n",
            "Our Deeds are the Reason of this #earthquake May ALLAH Forgive us all\n",
            "13,000 people receive #wildfires evacuation orders in California \n",
            "\n",
            "Negative Tweets: \n",
            "What's up man?\n",
            "My car is so fast\n"
          ],
          "name": "stdout"
        }
      ]
    },
    {
      "cell_type": "markdown",
      "metadata": {
        "id": "lH2rJwKEqpte"
      },
      "source": [
        "<h1>2. Exploratory Data Analysis</h1>\r\n",
        "<h2>2.1 Univariate Analysis</h2>\r\n",
        "<h3>2.1.1 keyword</h3>"
      ]
    },
    {
      "cell_type": "code",
      "metadata": {
        "colab": {
          "base_uri": "https://localhost:8080/"
        },
        "id": "OAcGcSKqquMX",
        "outputId": "381d968d-0d55-42ba-bf67-b87a239101d7"
      },
      "source": [
        "#keyword is text object. It's has all words only.\r\n",
        "df[\"keyword\"] = df[\"keyword\"].str.lower()\r\n",
        "keywords = dict(df[\"keyword\"].value_counts())\r\n",
        "\r\n",
        "print(\"Total unique words present in keyword: {}\".format(len(keywords)))\r\n",
        "print(\"Top 10 frequent words: \\n{}\".format(list(keywords.keys())[0:20]))"
      ],
      "execution_count": null,
      "outputs": [
        {
          "output_type": "stream",
          "text": [
            "Total unique words present in keyword: 221\n",
            "Top 10 frequent words: \n",
            "['fatalities', 'armageddon', 'deluge', 'harm', 'damage', 'body%20bags', 'evacuate', 'siren', 'fear', 'windstorm', 'twister', 'collided', 'sunk', 'famine', 'outbreak', 'collision', 'explosion', 'flames', 'weapon', 'earthquake']\n"
          ],
          "name": "stdout"
        }
      ]
    },
    {
      "cell_type": "code",
      "metadata": {
        "colab": {
          "base_uri": "https://localhost:8080/",
          "height": 116
        },
        "id": "SIpffO43qyhb",
        "outputId": "3a3c9505-9493-4c68-bd15-4ddaea852db8"
      },
      "source": [
        "#distribution plot\r\n",
        "fig = pt.figure(figsize = (250,15))\r\n",
        "ax = pt.gca()\r\n",
        "ax.bar(list(keywords.keys()), list(keywords.values()))\r\n",
        "ax.set(xlabel=\"keywords\", ylabel=\"frequncy of occurance\", title=\"keywords distribution\")\r\n",
        "for p in ax.patches:\r\n",
        "    width = p.get_width()\r\n",
        "    height = p.get_height()\r\n",
        "    x, y = p.get_xy() \r\n",
        "    ax.annotate(f'{height}', (x + width/2, y + height*1.02), ha='center')\r\n",
        "ax.grid()\r\n",
        "pt.show()"
      ],
      "execution_count": null,
      "outputs": [
        {
          "output_type": "display_data",
          "data": {
            "image/png": "[encoded data removed]",
            "text/plain": [
              "<Figure size 18000x1080 with 1 Axes>"
            ]
          },
          "metadata": {
            "tags": [],
            "needs_background": "light"
          }
        }
      ]
    },
    {
      "cell_type": "markdown",
      "metadata": {
        "id": "QuqafFTVq4Z2"
      },
      "source": [
        "<i><b>keyword feature may helpful as it covers symantic words related to disaster. But we are not covering this as there many missing values present.</b></i>"
      ]
    },
    {
      "cell_type": "markdown",
      "metadata": {
        "id": "iblEKJbHrD5_"
      },
      "source": [
        "<h3>2.1.2 Location</h3>"
      ]
    },
    {
      "cell_type": "code",
      "metadata": {
        "colab": {
          "base_uri": "https://localhost:8080/"
        },
        "id": "kMUmcXsqrBXc",
        "outputId": "aef3aac5-d27b-4f89-9a96-79b9f700d60d"
      },
      "source": [
        "#keyword is text object. It's has all words only.\r\n",
        "df[\"location\"] = df[\"location\"].str.lower()\r\n",
        "locations = dict(df[\"location\"].value_counts())\r\n",
        "\r\n",
        "print(\"Total unique words present in location: {}\".format(len(locations)))\r\n",
        "print(\"Top 10 frequent words: \\n{}\".format(list(locations.keys())[0:20]))"
      ],
      "execution_count": null,
      "outputs": [
        {
          "output_type": "stream",
          "text": [
            "Total unique words present in location: 3220\n",
            "Top 10 frequent words: \n",
            "['usa', 'new york', 'united states', 'london', 'canada', 'worldwide', 'uk', 'los angeles, ca', 'nigeria', 'india', 'mumbai', 'kenya', 'washington, dc', 'everywhere', 'chicago, il', 'california', 'australia', 'new york, ny', 'nyc', 'california, usa']\n"
          ],
          "name": "stdout"
        }
      ]
    },
    {
      "cell_type": "markdown",
      "metadata": {
        "id": "olETIXIarOgE"
      },
      "source": [
        "<i><b>No matter what is your location if a tweet is fake/not true means doesn't add any value. So location won't be included.</b></i>"
      ]
    },
    {
      "cell_type": "markdown",
      "metadata": {
        "id": "dZW_44_Yrb0G"
      },
      "source": [
        "<h3>2.1.3 Text/Tweets</h3>\r\n",
        "\r\n",
        "<h4>character length distributions of the tweets</h4>"
      ]
    },
    {
      "cell_type": "code",
      "metadata": {
        "colab": {
          "base_uri": "https://localhost:8080/"
        },
        "id": "1q0NltnIrK9c",
        "outputId": "52a8ebad-fa51-4f36-c0dd-14bdc1375c44"
      },
      "source": [
        "df[\"length_of_tweets\"] = df[\"text\"].str.len()\r\n",
        "print(\"Minimum and Maximum length of characters in a tweet present in the dataset is {} and {} respectively.\".\r\n",
        "      format(min(df[\"length_of_tweets\"]), max(df[\"length_of_tweets\"])))"
      ],
      "execution_count": null,
      "outputs": [
        {
          "output_type": "stream",
          "text": [
            "Minimum and Maximum length of characters in a tweet present in the dataset is 7 and 157 respectively.\n"
          ],
          "name": "stdout"
        }
      ]
    },
    {
      "cell_type": "code",
      "metadata": {
        "colab": {
          "base_uri": "https://localhost:8080/",
          "height": 191
        },
        "id": "mhkxv7Qns3kp",
        "outputId": "50d1a3fc-4e40-49bf-e663-683da84a8a09"
      },
      "source": [
        "df.head()"
      ],
      "execution_count": null,
      "outputs": [
        {
          "output_type": "execute_result",
          "data": {
            "text/html": [
              "<div>\n",
              "<style scoped>\n",
              "    .dataframe tbody tr th:only-of-type {\n",
              "        vertical-align: middle;\n",
              "    }\n",
              "\n",
              "    .dataframe tbody tr th {\n",
              "        vertical-align: top;\n",
              "    }\n",
              "\n",
              "    .dataframe thead th {\n",
              "        text-align: right;\n",
              "    }\n",
              "</style>\n",
              "<table border=\"1\" class=\"dataframe\">\n",
              "  <thead>\n",
              "    <tr style=\"text-align: right;\">\n",
              "      <th></th>\n",
              "      <th>id</th>\n",
              "      <th>keyword</th>\n",
              "      <th>location</th>\n",
              "      <th>text</th>\n",
              "      <th>target</th>\n",
              "      <th>length_of_tweets</th>\n",
              "    </tr>\n",
              "  </thead>\n",
              "  <tbody>\n",
              "    <tr>\n",
              "      <th>0</th>\n",
              "      <td>1</td>\n",
              "      <td>NaN</td>\n",
              "      <td>NaN</td>\n",
              "      <td>Our Deeds are the Reason of this #earthquake M...</td>\n",
              "      <td>1</td>\n",
              "      <td>69</td>\n",
              "    </tr>\n",
              "    <tr>\n",
              "      <th>1</th>\n",
              "      <td>4</td>\n",
              "      <td>NaN</td>\n",
              "      <td>NaN</td>\n",
              "      <td>Forest fire near La Ronge Sask. Canada</td>\n",
              "      <td>1</td>\n",
              "      <td>38</td>\n",
              "    </tr>\n",
              "    <tr>\n",
              "      <th>2</th>\n",
              "      <td>5</td>\n",
              "      <td>NaN</td>\n",
              "      <td>NaN</td>\n",
              "      <td>All residents asked to 'shelter in place' are ...</td>\n",
              "      <td>1</td>\n",
              "      <td>133</td>\n",
              "    </tr>\n",
              "    <tr>\n",
              "      <th>3</th>\n",
              "      <td>6</td>\n",
              "      <td>NaN</td>\n",
              "      <td>NaN</td>\n",
              "      <td>13,000 people receive #wildfires evacuation or...</td>\n",
              "      <td>1</td>\n",
              "      <td>65</td>\n",
              "    </tr>\n",
              "    <tr>\n",
              "      <th>4</th>\n",
              "      <td>7</td>\n",
              "      <td>NaN</td>\n",
              "      <td>NaN</td>\n",
              "      <td>Just got sent this photo from Ruby #Alaska as ...</td>\n",
              "      <td>1</td>\n",
              "      <td>88</td>\n",
              "    </tr>\n",
              "  </tbody>\n",
              "</table>\n",
              "</div>"
            ],
            "text/plain": [
              "   id keyword  ... target length_of_tweets\n",
              "0   1     NaN  ...      1               69\n",
              "1   4     NaN  ...      1               38\n",
              "2   5     NaN  ...      1              133\n",
              "3   6     NaN  ...      1               65\n",
              "4   7     NaN  ...      1               88\n",
              "\n",
              "[5 rows x 6 columns]"
            ]
          },
          "metadata": {
            "tags": []
          },
          "execution_count": 17
        }
      ]
    },
    {
      "cell_type": "code",
      "metadata": {
        "colab": {
          "base_uri": "https://localhost:8080/"
        },
        "id": "uFX4kT3_tKfE",
        "outputId": "c70b811a-6b14-4f30-eeaf-f4604573536f"
      },
      "source": [
        "df[\"length_of_tweets\"].describe() #description of length of characters"
      ],
      "execution_count": null,
      "outputs": [
        {
          "output_type": "execute_result",
          "data": {
            "text/plain": [
              "count    7503.000000\n",
              "mean      100.880581\n",
              "std        33.819457\n",
              "min         7.000000\n",
              "25%        77.000000\n",
              "50%       107.000000\n",
              "75%       133.000000\n",
              "max       157.000000\n",
              "Name: length_of_tweets, dtype: float64"
            ]
          },
          "metadata": {
            "tags": []
          },
          "execution_count": 18
        }
      ]
    },
    {
      "cell_type": "code",
      "metadata": {
        "colab": {
          "base_uri": "https://localhost:8080/",
          "height": 385
        },
        "id": "_cBzHTVgsLbn",
        "outputId": "7e51e49d-399f-4b8f-9c80-11803310324a"
      },
      "source": [
        "#length distributions\r\n",
        "sns.FacetGrid(df,hue=\"target\", height=5, aspect=2.5).map(sns.distplot, \"length_of_tweets\").add_legend()"
      ],
      "execution_count": null,
      "outputs": [
        {
          "output_type": "execute_result",
          "data": {
            "text/plain": [
              "<seaborn.axisgrid.FacetGrid at 0x7f4655d22ef0>"
            ]
          },
          "metadata": {
            "tags": []
          },
          "execution_count": 19
        },
        {
          "output_type": "display_data",
          "data": {
            "image/png": "[encoded data removed]",
            "text/plain": [
              "<Figure size 942.375x360 with 1 Axes>"
            ]
          },
          "metadata": {
            "tags": [],
            "needs_background": "light"
          }
        }
      ]
    },
    {
      "cell_type": "code",
      "metadata": {
        "colab": {
          "base_uri": "https://localhost:8080/",
          "height": 295
        },
        "id": "CEC7WyFz4d-b",
        "outputId": "32745910-0fee-4839-87bc-aac32c7f65f3"
      },
      "source": [
        "#box plot\r\n",
        "df[\"word_length\"] = df[\"text\"].str.split().apply(len)\r\n",
        "sns.boxplot(y=\"word_length\", x= \"target\", data=df, palette = \"winter\")"
      ],
      "execution_count": null,
      "outputs": [
        {
          "output_type": "execute_result",
          "data": {
            "text/plain": [
              "<matplotlib.axes._subplots.AxesSubplot at 0x7f46515f9278>"
            ]
          },
          "metadata": {
            "tags": []
          },
          "execution_count": 20
        },
        {
          "output_type": "display_data",
          "data": {
            "image/png": "[encoded data removed]",
            "text/plain": [
              "<Figure size 432x288 with 1 Axes>"
            ]
          },
          "metadata": {
            "tags": [],
            "needs_background": "light"
          }
        }
      ]
    },
    {
      "cell_type": "code",
      "metadata": {
        "colab": {
          "base_uri": "https://localhost:8080/",
          "height": 405
        },
        "id": "LNpibL__4mY9",
        "outputId": "f211317c-84b5-4e1e-f81e-2f6582a5122e"
      },
      "source": [
        "def dist_plot(input_feature):\r\n",
        "    sns.FacetGrid(df, hue=\"target\", size=5.5, aspect=2.2).map(sns.distplot, input_feature).add_legend()\r\n",
        "    pt.show()\r\n",
        "dist_plot(\"word_length\")"
      ],
      "execution_count": null,
      "outputs": [
        {
          "output_type": "display_data",
          "data": {
            "image/png": "[encoded data removed]",
            "text/plain": [
              "<Figure size 913.575x396 with 1 Axes>"
            ]
          },
          "metadata": {
            "tags": [],
            "needs_background": "light"
          }
        }
      ]
    },
    {
      "cell_type": "markdown",
      "metadata": {
        "id": "Sqrnau3OtXNh"
      },
      "source": [
        "<pre>\r\n",
        "There is a overlap of characters and words present in tweets in both target class. Also there are some outliers present in positive target class as we can see in box plot.\r\n",
        "</pre>"
      ]
    },
    {
      "cell_type": "markdown",
      "metadata": {
        "id": "Sby_iBxLt7ed"
      },
      "source": [
        "<h1>3. Text Preprocessing</h1>\r\n",
        "\r\n",
        "Text Preprocessing is an important step for any NLP related project. Here I am using <b>glove.840B.300d</b> pre-trained embedding to create a text corpus.\r\n",
        "\r\n",
        "I will try to keep my text corpus as close to embeddings. This process will help during the sequence prediction of words using LSTM."
      ]
    },
    {
      "cell_type": "markdown",
      "metadata": {
        "id": "tTZz1CpXu-XM"
      },
      "source": [
        "<h2>3.1 Loading Glove Embedding</h2|>"
      ]
    },
    {
      "cell_type": "code",
      "metadata": {
        "colab": {
          "base_uri": "https://localhost:8080/"
        },
        "id": "c1nQ2Np6ErFi",
        "outputId": "f0a5bd5a-81ac-4740-f3e1-9a4faf3129bd"
      },
      "source": [
        "%%time\r\n",
        "def GloVe(file_path):\r\n",
        "    '''\r\n",
        "    parameter : file_path(embedding file)\r\n",
        "    return : embedding_matrix(dictionary)\r\n",
        "    '''\r\n",
        "    def get_coefs(word,*arr): \r\n",
        "        return word, np.asarray(arr, dtype='float32')\r\n",
        "    #code to get the dict of embedding_matrix\r\n",
        "    embedding_matrix = dict(get_coefs(*w.split(\" \")) for w in open(file_path, encoding='latin'))\r\n",
        "    return embedding_matrix\r\n",
        "\r\n",
        "embedding_matrix = GloVe(\"/content/drive/MyDrive/glove.840B.300d.txt\")"
      ],
      "execution_count": null,
      "outputs": [
        {
          "output_type": "stream",
          "text": [
            "CPU times: user 2min 32s, sys: 4.84 s, total: 2min 37s\n",
            "Wall time: 2min 46s\n"
          ],
          "name": "stdout"
        }
      ]
    },
    {
      "cell_type": "markdown",
      "metadata": {
        "id": "bBhtmhw_xse4"
      },
      "source": [
        "<h2>3.2 Defined contractions and punctuations</h2>"
      ]
    },
    {
      "cell_type": "code",
      "metadata": {
        "id": "dGZRXQ5ovxOu"
      },
      "source": [
        "#Source: - https://en.wikipedia.org/wiki/Wikipedia:List_of_English_contractions\r\n",
        "#some of the known contractions\r\n",
        "contractions = {\"'aight\": 'alright', \"ain't\": 'am not', \"amn't\": 'am not', \"aren't\": 'are not', \"can't\": 'can not', \"'cause\": 'because', \"could've\": 'could have', \"couldn't\": 'could not',\r\n",
        "                \"couldn't've\": 'could not have', \"daren't\": 'dare not', \"daresn't\": 'dare not', \"dasn't\": 'dare not', \"didn't\": 'did not', \"doesn't\": 'does not', \"don't\": 'do not', \r\n",
        "                'dunno': \"don't know\", \"d'ye\": 'do you', \"e'er\": 'ever', \"everybody's\": 'everybody is', \"everyone's\": 'everyone is', 'finna': 'fixing to', \"g'day\": 'good day', \r\n",
        "                'gimme': 'give me', \"giv'n\": 'given', 'gonna': 'going to', \"gon't\": 'go not', 'gotta': 'got to', \"hadn't\": 'had not', \"had've\": 'had have', \"hasn't\": 'has not', \r\n",
        "                \"haven't\": 'have not', \"he'd\": 'he had', \"he'll\": 'he will', \"he's\": 'he is', \"he've\": 'he have', \"how'd\": 'how did', 'howdy': 'how do you do', \"how'll\": 'how will',\r\n",
        "                \"how're\": 'how are', \"how's\": 'how is', \"I'd\": 'I had', \"I'd've\": 'I would have', \"I'll\": 'I will', \"I'm\": 'I am', \"I'm'a\": 'I am about to', \"I'm'o\": 'I am going to', \r\n",
        "                'innit': 'is it not', \"I've\": 'I have', \"isn't\": 'is not', \"it'd \": 'it would', \"it'll\": 'it will', \"it's \": 'it is', 'iunno': \"I don't know\", \"let's\": 'let us', \r\n",
        "                \"ma'am\": 'madam', \"mayn't\": 'may not', \"may've\": 'may have', 'methinks': 'me thinks', \"mightn't\": 'might not', \"might've\": 'might have', \"mustn't\": 'must not', \r\n",
        "                \"mustn't've\": 'must not have', \"must've\": 'must have', \"needn't\": 'need not', 'nal': 'and all', \"ne'er\": 'never', \"o'clock\": 'of the clock', \"o'er\": 'over',\r\n",
        "                \"ol'\": 'old', \"oughtn't\": 'ought not', \"'s\": 'is', \"shalln't\": 'shall not', \"shan't\": 'shall not', \"she'd\": 'she would', \"she'll\": 'she will', \"she's\": 'she is', \r\n",
        "                \"should've\": 'should have', \"shouldn't\": 'should not', \"shouldn't've\": 'should not have', \"somebody's\": 'somebody has', \"someone's\": 'someone has', \r\n",
        "                \"something's\": 'something has', \"so're\": 'so are', \"that'll\": 'that will', \"that're\": 'that are', \"that's\": 'that is', \"that'd\": 'that would', \"there'd\": 'there would', \r\n",
        "                \"there'll\": 'there will', \"there're\": 'there are', \"there's\": 'there is', \"these're\": 'these are', \"they've\": 'they have', \"this's\": 'this is', \"those're\": 'those are',\r\n",
        "                \"those've\": 'those have', \"'tis\": 'it is', \"to've\": 'to have', \"'twas\": 'it was', 'wanna': 'want to', \"wasn't\": 'was not', \"we'd\": 'we would',  \"we'd've\": 'we would have',\r\n",
        "                \"we'll\": 'we will', \"we're\": 'we are', \"we've\": 'we have', \"weren't\": 'were not',  \"what'd\": 'what did', \"what'll\": 'what will', \"what're\": 'what are', \r\n",
        "                \"what's\": 'what does', \"what've\": 'what have',\"when's\": 'when is', \"where'd\": 'where did', \"where'll\": 'where will', \"where're\": 'where are',\"where's\": 'where is',\r\n",
        "                \"where've\": 'where have', \"which'd\": 'which would', \"which'll\": 'which will', \"which're\": 'which are',\"which's\": 'which is', \"which've\": 'which have', \"who'd\": 'who would',\r\n",
        "                \"who'd've\": 'who would have', \"who'll\": 'who will', \"who're\": 'who are', \"who'ves\": 'who is', \"who'\": 'who have',\"why'd\": 'why did', \"why're\": 'why are', \"why's\": 'why does',\r\n",
        "                \"willn't\": 'will not', \"won't\": 'will not', 'wonnot': 'will not', \"would've\": 'would have', \"wouldn't\": 'would not', \"wouldn't've\": 'would not have',\"y'all\": 'you all',\r\n",
        "                \"y'all'd've\": 'you all would have', \"y'all'd'n've\": 'you all would not have',\"y'all're\": 'you all are', \"cause\":\"because\",\"have't\":\"have not\",\"cann't\":\"can not\",\r\n",
        "                \"ain't\":\"am not\", \"you'd\": 'you would', \"you'll\": 'you will', \"you're\": 'you are', \"you've\": 'you have', 'cannot': 'can not', 'wont': 'will not', \"You'\": 'Am not', \r\n",
        "                \"Ain'\": 'Am not', \"Amn'\": 'Am not', \"Aren'\": 'Are not', \"Can'\": 'Because', \"Could'\": 'Could have', \"Couldn'\": 'Could not have', \"Daren'\": 'Dare not', \"Daresn'\": 'Dare not',\r\n",
        "                \"Dasn'\": 'Dare not', \"Didn'\": 'Did not', \"Doesn'\": 'Does not', \"Don'\": \"Don't know\", \"D'\": 'Do you', \"E'\": 'Ever', \"Everybody'\": 'Everybody is', \"Everyone'\": 'Fixing to', \r\n",
        "                \"G'\": 'Give me', \"Giv'\": 'Going to', \"Gon'\": 'Got to', \"Hadn'\": 'Had not', \"Had'\": 'Had have', \"Hasn'\": 'Has not', \"Haven'\": 'Have not', \"He'\": 'He have', \"How'\": 'How is',\r\n",
        "                \"I'\": 'I have', \"Isn'\": 'Is not', \"It'\": \"I don't know\", \"Let'\": 'Let us', \"Ma'\": 'Madam', \"Mayn'\": 'May not', \"May'\": 'Me thinks', \"Mightn'\": 'Might not', \r\n",
        "                \"Might'\": 'Might have', \"Mustn'\": 'Must not have', \"Must'\": 'Must have', \"Needn'\": 'And all', \"Ne'\": 'Never', \"O'\": 'Old', \"Oughtn'\": 'Is', \"Shalln'\": 'Shall not',\r\n",
        "                \"Shan'\": 'Shall not', \"She'\": 'She is', \"Should'\": 'Should have', \"Shouldn'\": 'Should not have', \"Somebody'\": 'Somebody has', \"Someone'\": 'Someone has', \r\n",
        "                \"Something'\": 'Something has', \"So'\": 'So are', \"That'\": 'That would', \"There'\": 'There is', \"They'\": 'They have', \"This'\": 'This is', \"Those'\": 'It is', \"To'\": 'Want to',\r\n",
        "                \"Wasn'\": 'Was not', \"Weren'\": 'Were not', \"What'\": 'What have', \"When'\": 'When is', \"Where'\": 'Where have', \"Which'\": 'Which have', \"Who'\": 'Who have', \"Why'\": 'Why does',\r\n",
        "                \"Willn'\": 'Will not', \"Won'\": 'Will not', \"Would'\": 'Would have',\"Wouldn'\": 'Would not have', \"Y'\": 'You all are',\"What's\":\"What is\",\"What're\":\"What are\",\"what's\":\"what is\",\r\n",
        "                \"what're\":\"what are\", \"Who're\":\"Who are\", \"your're\":\"you are\",\"you're\":\"you are\", \"You're\":\"You are\",\"We're\":\"We are\", \"These'\": 'These have', \"we're\":\"we are\",\r\n",
        "                \"Why're\":\"Why are\",\"How're\":\"How are \",\"how're \":\"how are \",\"they're \":\"they are \", \"befo're\":\"before\",\"'re \":\" are \",'don\"t ':\"do not\", \"Won't \":\"Will not \",\r\n",
        "                \"could't\":\"could not\", \"would't\":\"would not\", \"We'\": 'We have',\"Hasn't\":\"Has not\",\"n't\":\"not\", 'who\"s':\"who is\"}\r\n",
        "#punctuations to be removed\r\n",
        "strings = \"&${}?/.£@©¡¢(¼¬>+´,^`=[|¨~)]_\\-«%!;¤*':÷\"\r\n",
        "#correct words\r\n",
        "correct_words = {\"TyphoonDevastated\":\"Typhoon Devastated\", \"selfimage\":\"self image\", \"Time20150806\":\"Time 20150806\", \"ArianaGrande\":\"Ariana Grande\",\"IranDeal\":\"Iran Deal\",\"53inch\":\"53 inch\",\r\n",
        "                 \"RÌunion\":\"Reunion\", \"MeatLoving\":\"Meat Loving\", \"wheavenly \":\"heavenly\", \"MikeParrActor\":\"Mike Parr Actor\",\"ChicagoArea\":\"Chicago Area\", \"KerrickTrial\":\"Kerrick Trial\",\r\n",
        "                 \"PantherAttack\":\"Panther Attack\", \"YoungHeroesID\":\"Young Heroes ID\", \"socialnews\":\"social news\", \"CollisionNo\":\"Collision No\", \"USAgov\":\"USA gov\", \"MTVHottest\":\"MTV Hottest\",\r\n",
        "                 \"JapÌn\":\"Japan\",\"360WiseNews\":\"360 Wise News\", \"DiamondKesawn\":\"Diamond Kesawn\",\"TripleDigit\":\"Triple Digit\"}"
      ],
      "execution_count": null,
      "outputs": []
    },
    {
      "cell_type": "markdown",
      "metadata": {
        "id": "Nzeqyptqx5F9"
      },
      "source": [
        "<h2>3.3 function</h2>"
      ]
    },
    {
      "cell_type": "code",
      "metadata": {
        "id": "PFdSTmC8x5mV"
      },
      "source": [
        "def preprocessing(text, embedding, contractions, correct_words, strings):\r\n",
        "    \r\n",
        "    #punctuations table\r\n",
        "    translate_table = dict((ord(char), None) for char in strings) \r\n",
        "    sent_tokenizer = nltk.TweetTokenizer(preserve_case=True, strip_handles=True, reduce_len=True)\r\n",
        "    \r\n",
        "    for idx,tweet in enumerate(text.values):\r\n",
        "        \r\n",
        "        tweet = re.sub(r'^RT[\\s]+', '', tweet) #removes retweets\r\n",
        "        tweet = re.sub(r'https?://\\S+|www\\.\\S+', '', tweet)\r\n",
        "        tweet = re.sub(r'https?:\\/\\/.*[\\r\\n]*', '', tweet) # removes hypertext\r\n",
        "        \r\n",
        "        #emoji removal\r\n",
        "        emoji= re.compile(\"[\"u\"\\U0001F600-\\U0001F64F\" #emoticons\r\n",
        "                            u\"\\U0001F300-\\U0001F5FF\" #symbols&pics\r\n",
        "                            u\"\\U0001F680-\\U0001F6FF\" #transportation pic\r\n",
        "                            u\"\\U0001F1E0-\\U0001F1FF\" #flags\r\n",
        "                            u\"\\U00002702-\\U000027B0\"\r\n",
        "                            u\"\\U000024C2-\\U0001F251\"\r\n",
        "                            \"]+\", flags = re.UNICODE)\r\n",
        "        tweet = emoji.sub(r'', tweet)\r\n",
        "\r\n",
        "        #decontraction\r\n",
        "        tweet = ' '.join(word.replace(word,contractions[word]) if word in contractions\r\n",
        "                    else word for word in tweet.split())\r\n",
        "        tweet = re.sub(r\"\\'s\", \" \", tweet); tweet = re.sub(r\"n\\'t\", \" not \", tweet)\r\n",
        "        tweet = re.sub(r\"\\'re \", \" are \", tweet); tweet = re.sub(r\"\\'d \", \" would\", tweet)\r\n",
        "        tweet = re.sub(r\"\\'ll \", \" will\", tweet); tweet = re.sub(r\"\\'ve \", \" have\", tweet)\r\n",
        "        tweet = re.sub(r\"\\'m \", \" am\", tweet)\r\n",
        "        \r\n",
        "        #general\r\n",
        "        tweet = re.sub(r'#', '', tweet); tweet = re.sub(r\"Û_\",\"\",tweet)\r\n",
        "        tweet = re.sub(r\"ÛÒ\",\"\",tweet); tweet = re.sub(r\"ÛÓ\",\"\",tweet)\r\n",
        "        tweet = re.sub(r\"ÛÏ\",\"\",tweet); tweet = re.sub(r\"Ûª\",\"'\",tweet)\r\n",
        "        tweet = re.sub(r\"åÊ\",\" \",tweet)\r\n",
        "        \r\n",
        "        #removal of punctuations\r\n",
        "        tweet = tweet.translate(translate_table)\r\n",
        "        \r\n",
        "        #replace incorrect words\r\n",
        "        tweet = ' '.join(word.replace(word,correct_words[word]) if word in correct_words else \r\n",
        "                         word for word in tweet.split())\r\n",
        "        \r\n",
        "        #tokenizing sentences\r\n",
        "        sent = \"\"\r\n",
        "        tokens = sent_tokenizer.tokenize(tweet)\r\n",
        "        for word in tokens:\r\n",
        "            if word in embedding:\r\n",
        "                pass\r\n",
        "            else:\r\n",
        "                if word.istitle() in embedding:\r\n",
        "                    word = word.istitle()\r\n",
        "                elif word.islower() in embedding:\r\n",
        "                    word = word.lower()\r\n",
        "            #adding sentences        \r\n",
        "            sent += word + \" \"\r\n",
        "            \r\n",
        "        #remove unwanted spaces\r\n",
        "        sent = re.sub(\"\\s{2}\\s+\",\" \",sent)\r\n",
        "        sent = re.sub(\"\\s{2}\",\" \",sent)\r\n",
        "        #assigning sentences back to the feature\r\n",
        "        text.values[idx] = sent.strip()\r\n",
        "    \r\n",
        "    return text"
      ],
      "execution_count": null,
      "outputs": []
    },
    {
      "cell_type": "code",
      "metadata": {
        "id": "oz6xQBJpyOX3",
        "colab": {
          "base_uri": "https://localhost:8080/"
        },
        "outputId": "76febb61-3406-4b02-a5ff-cc89fa7741b3"
      },
      "source": [
        "%%time\r\n",
        "df['preprocessed_text'] = preprocessing(df['text'], embedding_matrix, contractions, correct_words, strings)\r\n",
        "test_df['preprocessed_text'] = preprocessing(test_df['text'], embedding_matrix, contractions, correct_words, strings)"
      ],
      "execution_count": null,
      "outputs": [
        {
          "output_type": "stream",
          "text": [
            "CPU times: user 960 ms, sys: 3.02 ms, total: 963 ms\n",
            "Wall time: 967 ms\n"
          ],
          "name": "stdout"
        }
      ]
    },
    {
      "cell_type": "markdown",
      "metadata": {
        "id": "HQFhAdEkyNkm"
      },
      "source": [
        "<h2>3.4 checking for coverage of words in the embedding matrix</h2>"
      ]
    },
    {
      "cell_type": "code",
      "metadata": {
        "id": "lFpTEo4KysD7"
      },
      "source": [
        "#checking coverage for words present in question_text and in embedding_matrix\r\n",
        "def coverage(vocab, embeddings_index):\r\n",
        "    #Initializing values\r\n",
        "    known_words = defaultdict(int)\r\n",
        "    unknown_words = defaultdict(int)\r\n",
        "    knownWordsVal = 0\r\n",
        "    unknownWordsVal = 0\r\n",
        "    #iterating words\r\n",
        "    for word in vocab.keys():\r\n",
        "        try:\r\n",
        "            known_words[word] = embeddings_index[word]\r\n",
        "            knownWordsVal += vocab[word]\r\n",
        "        except:\r\n",
        "            unknown_words[word] = vocab[word]\r\n",
        "            unknownWordsVal += vocab[word]\r\n",
        "            pass\r\n",
        "    \r\n",
        "    #printing values\r\n",
        "    print('Found {:.2%} of words in the embedding of the question text vocab'\r\n",
        "           .format(len(known_words) / len(vocab)))\r\n",
        "    print('Found {:.2%} of the words in the question text vocab'.format(knownWordsVal / (knownWordsVal + unknownWordsVal)))\r\n",
        "    unknown_words = sorted(unknown_words.items(), key=operator.itemgetter(1))[::-1]\r\n",
        "\r\n",
        "    return unknown_words\r\n",
        "\r\n",
        "#text vocabulary function to check coverage \r\n",
        "def text_vocab(text):\r\n",
        "    freq_dict = defaultdict(int)\r\n",
        "    total_sent = text.apply(lambda x: x.split()).values\r\n",
        "    for sent in total_sent:\r\n",
        "        for token in sent:\r\n",
        "            freq_dict[token] += 1\r\n",
        "    return freq_dict"
      ],
      "execution_count": null,
      "outputs": []
    },
    {
      "cell_type": "code",
      "metadata": {
        "id": "JVc3IY_JyyYM",
        "colab": {
          "base_uri": "https://localhost:8080/"
        },
        "outputId": "18b4bb0c-cc8f-4b5d-c3c5-7420046c7801"
      },
      "source": [
        "%%time\r\n",
        "training_vocab = text_vocab(df['preprocessed_text'])\r\n",
        "oov_glove = coverage(training_vocab, embedding_matrix)"
      ],
      "execution_count": null,
      "outputs": [
        {
          "output_type": "stream",
          "text": [
            "Found 79.56% of words in the embedding of the question text vocab\n",
            "Found 95.11% of the words in the question text vocab\n",
            "CPU times: user 159 ms, sys: 4.94 ms, total: 164 ms\n",
            "Wall time: 167 ms\n"
          ],
          "name": "stdout"
        }
      ]
    },
    {
      "cell_type": "markdown",
      "metadata": {
        "id": "KiEmk7W0zgiA"
      },
      "source": [
        "<pre>\r\n",
        "The pre trained embedding is covering 80% of the unique words present in the text corpus which is a good result.\r\n",
        "</pre>"
      ]
    },
    {
      "cell_type": "markdown",
      "metadata": {
        "id": "s1ck6r6W3kTe"
      },
      "source": [
        "<h2>3.5 word distribution analysis after text preprocessing</h2>"
      ]
    },
    {
      "cell_type": "code",
      "metadata": {
        "id": "xsCbMtdD20Yx",
        "colab": {
          "base_uri": "https://localhost:8080/"
        },
        "outputId": "098f1f3f-47ce-4bb5-e16d-fc79129e99f9"
      },
      "source": [
        "df[\"word_length_preprocessed\"] = df[\"preprocessed_text\"].str.split().apply(len)\r\n",
        "print(\"Minimum and Maximum length of words in a tweet present in the dataset is {} and {} respectively.\".\r\n",
        "      format(min(df[\"word_length\"]), max(df[\"word_length\"])))"
      ],
      "execution_count": null,
      "outputs": [
        {
          "output_type": "stream",
          "text": [
            "Minimum and Maximum length of words in a tweet present in the dataset is 1 and 31 respectively.\n"
          ],
          "name": "stdout"
        }
      ]
    },
    {
      "cell_type": "code",
      "metadata": {
        "id": "FCG25R5u29H8",
        "colab": {
          "base_uri": "https://localhost:8080/"
        },
        "outputId": "e4e5e613-4ac6-4212-cb3d-668bf6a0df74"
      },
      "source": [
        "#there are lots of outlier present which we can see from box plot let's check the percentile values\r\n",
        "for i in range(0, 99, 10):\r\n",
        "    print(str(i) + \"th percentile : \"+ str(np.percentile(list(df[\"word_length_preprocessed\"].values), i)))\r\n",
        "for i in range(91, 100):\r\n",
        "    print(str(i) + \"th percentile : \"+ str(np.percentile(list(df[\"word_length_preprocessed\"].values), i)))\r\n",
        "for i in range(1,11):\r\n",
        "    i = (i/10) + 99\r\n",
        "    print(str(i) + \"th percentile : \"+ str(np.percentile(list(df[\"word_length_preprocessed\"].values), i)))"
      ],
      "execution_count": null,
      "outputs": [
        {
          "output_type": "stream",
          "text": [
            "0th percentile : 1.0\n",
            "10th percentile : 7.0\n",
            "20th percentile : 9.0\n",
            "30th percentile : 11.0\n",
            "40th percentile : 12.0\n",
            "50th percentile : 14.0\n",
            "60th percentile : 16.0\n",
            "70th percentile : 17.0\n",
            "80th percentile : 20.0\n",
            "90th percentile : 23.0\n",
            "91th percentile : 23.0\n",
            "92th percentile : 23.0\n",
            "93th percentile : 24.0\n",
            "94th percentile : 24.0\n",
            "95th percentile : 25.0\n",
            "96th percentile : 25.0\n",
            "97th percentile : 26.0\n",
            "98th percentile : 27.0\n",
            "99th percentile : 28.0\n",
            "99.1th percentile : 28.0\n",
            "99.2th percentile : 28.0\n",
            "99.3th percentile : 29.0\n",
            "99.4th percentile : 29.0\n",
            "99.5th percentile : 29.0\n",
            "99.6th percentile : 29.0\n",
            "99.7th percentile : 29.493999999999687\n",
            "99.8th percentile : 30.0\n",
            "99.9th percentile : 30.498000000000502\n",
            "100.0th percentile : 32.0\n"
          ],
          "name": "stdout"
        }
      ]
    },
    {
      "cell_type": "markdown",
      "metadata": {
        "id": "kcVO9cD14EZs"
      },
      "source": [
        "<pre> As the word length is not much extreme after preprocessing, we can go for 30 as MAXLENGTH."
      ]
    },
    {
      "cell_type": "markdown",
      "metadata": {
        "id": "s-sQUXGSXEUk"
      },
      "source": [
        "<h2>3.6 Saving File</h2>"
      ]
    },
    {
      "cell_type": "code",
      "metadata": {
        "id": "06776ZnbXJmn"
      },
      "source": [
        "df.to_csv(\"/content/drive/MyDrive/train_mod.csv\", index=False)\r\n",
        "test_df.to_csv(\"/content/drive/MyDrive/test_df.csv\", index=False)"
      ],
      "execution_count": null,
      "outputs": []
    },
    {
      "cell_type": "markdown",
      "metadata": {
        "id": "tiDrFwJc0iiv"
      },
      "source": [
        "<h1>4. Train Test Split</h1>"
      ]
    },
    {
      "cell_type": "code",
      "metadata": {
        "id": "NPzQGJtrzsfH",
        "colab": {
          "base_uri": "https://localhost:8080/"
        },
        "outputId": "8370fc5e-2cb4-41e8-cdae-55a00199645f"
      },
      "source": [
        "from sklearn.model_selection import train_test_split\r\n",
        "y = df['target']\r\n",
        "X = df.drop(columns = ['target'])\r\n",
        "\r\n",
        "X_train, X_cv, y_train, y_cv = train_test_split(X, y, test_size=0.20, stratify=y)\r\n",
        "print(\"The shape of train,cv & test dataset before conversion into vector\")\r\n",
        "print(X_train.shape, y_train.shape)\r\n",
        "print(X_cv.shape, y_cv.shape)\r\n",
        "print(test_df.shape)"
      ],
      "execution_count": null,
      "outputs": [
        {
          "output_type": "stream",
          "text": [
            "The shape of train,cv & test dataset before conversion into vector\n",
            "(6002, 5) (6002,)\n",
            "(1501, 5) (1501,)\n",
            "(3263, 5)\n"
          ],
          "name": "stdout"
        }
      ]
    },
    {
      "cell_type": "markdown",
      "metadata": {
        "id": "V9Y4s18k0uYk"
      },
      "source": [
        "<h1>5. tokenization and sequence padding of the dataset</h1>"
      ]
    },
    {
      "cell_type": "code",
      "metadata": {
        "id": "841wEzrC00x2"
      },
      "source": [
        "tokenizer = tf.keras.preprocessing.text.Tokenizer() #creating object\r\n",
        "tokenizer.fit_on_texts(X['preprocessed_text']) #fitting on train data\r\n",
        "\r\n",
        "encoded_docs_train = tokenizer.texts_to_sequences(X_train['preprocessed_text'])\r\n",
        "encoded_docs_cv = tokenizer.texts_to_sequences(X_cv['preprocessed_text'])\r\n",
        "encoded_docs_test = tokenizer.texts_to_sequences(test_df['preprocessed_text'])"
      ],
      "execution_count": null,
      "outputs": []
    },
    {
      "cell_type": "code",
      "metadata": {
        "id": "ZdOh0QuaFyUz"
      },
      "source": [
        "EMBEDDING_DIM = 300\r\n",
        "MAXLENGTH = 30\r\n",
        "VOCAB_SIZE = len(tokenizer.word_index) + 1"
      ],
      "execution_count": null,
      "outputs": []
    },
    {
      "cell_type": "code",
      "metadata": {
        "id": "pCTeqTtI1GIP"
      },
      "source": [
        "#PADDING OF SEQUENCES\r\n",
        "Xtrain = tf.keras.preprocessing.sequence.pad_sequences(encoded_docs_train, maxlen = MAXLENGTH, padding='post')\r\n",
        "Xcv = tf.keras.preprocessing.sequence.pad_sequences(encoded_docs_cv, maxlen = MAXLENGTH, padding='post')\r\n",
        "Xtest = tf.keras.preprocessing.sequence.pad_sequences(encoded_docs_test, maxlen = MAXLENGTH, padding='post')"
      ],
      "execution_count": null,
      "outputs": []
    },
    {
      "cell_type": "markdown",
      "metadata": {
        "id": "5-17Qm5B5on9"
      },
      "source": [
        "<h1>6. creating embedding matrix</h1>"
      ]
    },
    {
      "cell_type": "code",
      "metadata": {
        "id": "6HPGpe151bkw",
        "colab": {
          "base_uri": "https://localhost:8080/"
        },
        "outputId": "1aad504f-314a-42f1-c944-b891f884a79e"
      },
      "source": [
        "#getting embedding matrix of 300 dim\r\n",
        "words = set(embedding_matrix.keys())\r\n",
        "embeddings = np.zeros((VOCAB_SIZE, 300))\r\n",
        "for word, idx in tokenizer.word_index.items():\r\n",
        "    if word in words:\r\n",
        "        embedding_vector = embedding_matrix[word]\r\n",
        "        embeddings[idx] = embedding_vector\r\n",
        "\r\n",
        "print('The shape of emdedding matrix is: ',embeddings.shape)"
      ],
      "execution_count": null,
      "outputs": [
        {
          "output_type": "stream",
          "text": [
            "The shape of emdedding matrix is:  (17795, 300)\n"
          ],
          "name": "stdout"
        }
      ]
    },
    {
      "cell_type": "markdown",
      "metadata": {
        "id": "tBWuYJgK5xsj"
      },
      "source": [
        "<h1>7. categorizing output files</h1>"
      ]
    },
    {
      "cell_type": "code",
      "metadata": {
        "id": "afu01eDj5tQX"
      },
      "source": [
        "ytrain = tf.keras.utils.to_categorical(y_train, 2)\r\n",
        "ycv = tf.keras.utils.to_categorical(y_cv, 2)"
      ],
      "execution_count": null,
      "outputs": []
    },
    {
      "cell_type": "markdown",
      "metadata": {
        "id": "ztkFqZYT6Hgq"
      },
      "source": [
        "<h1>8.callback</h1>"
      ]
    },
    {
      "cell_type": "code",
      "metadata": {
        "id": "MUEuYkNzGYWJ"
      },
      "source": [
        "#earlystoping helps in stop the trsining when model starts overfitting\r\n",
        "earlyStopping = EarlyStopping(monitor='val_loss', #will be based on validation loss\r\n",
        "                              min_delta=0, \r\n",
        "                              patience=1, #patience 1 means only a small amount of overfitting is tolerated\r\n",
        "                              verbose=0, \r\n",
        "                              mode='auto')\r\n",
        "\r\n",
        "#Custom F1 score callback\r\n",
        "class F1_SCORE(tf.keras.callbacks.Callback):\r\n",
        "\r\n",
        "    def __init__(self,train_data, val_data):\r\n",
        "        self.X_train, self.y_train = train_data[0], train_data[1]\r\n",
        "        self.X_val, self.y_val = val_data[0], val_data[1]\r\n",
        "\r\n",
        "    def on_train_begin(self, logs = {}):\r\n",
        "        self.F1 = list()\r\n",
        "\r\n",
        "    def on_epoch_end(self, epoch, logs = {}):\r\n",
        "        #F1 Score\r\n",
        "        y_pred = np.asarray(self.model.predict(self.X_val)).round()\r\n",
        "        F1Score = sklearn.metrics.f1_score(self.y_val, y_pred, average=None)\r\n",
        "        self.F1.append(F1Score)\r\n",
        "\r\n",
        "        print(\" - F1 SCORE: {}\".format(np.round(F1Score,4)))"
      ],
      "execution_count": null,
      "outputs": []
    },
    {
      "cell_type": "code",
      "metadata": {
        "id": "J8v-KFgKzw_A"
      },
      "source": [
        "F1_Score = F1_SCORE(train_data=(Xtrain, ytrain),\r\n",
        "                    val_data=(Xcv, ycv))"
      ],
      "execution_count": null,
      "outputs": []
    },
    {
      "cell_type": "markdown",
      "metadata": {
        "id": "nr3jDzv78GOf"
      },
      "source": [
        "<h1>9.Attention with LSTM</h1>\r\n",
        "\r\n",
        "<h2>9.1 Custom Attention Layer</h2>"
      ]
    },
    {
      "cell_type": "code",
      "metadata": {
        "id": "BglxyrBs8NIG"
      },
      "source": [
        "class Attention(tf.keras.layers.Layer):\r\n",
        "    '''\r\n",
        "    Class the calculates score based on the scoring_function using Bahdanu attention mechanism.\r\n",
        "    '''\r\n",
        "    def __init__(self, att_units, name=None, **kwargs):\r\n",
        "\r\n",
        "        super(Attention, self).__init__(name=name)\r\n",
        "        self.att_units = att_units  #number of attention units to be provided\r\n",
        "        super(Attention, self).__init__(**kwargs)\r\n",
        "        \r\n",
        "        # Intialize variables needed for Concat score function here\r\n",
        "        self.W1=tf.keras.layers.Dense(att_units)\r\n",
        "        self.W2=tf.keras.layers.Dense(att_units)\r\n",
        "        self.V=tf.keras.layers.Dense(1)\r\n",
        "\r\n",
        "    def get_config(self):\r\n",
        "        config = super(Attention, self).get_config()\r\n",
        "        config.update({\"att_units\": self.att_units})\r\n",
        "        return config  \r\n",
        "\r\n",
        "    def call(self,lstm_output, hidden_state):\r\n",
        "        \r\n",
        "        \"\"\"\r\n",
        "        hidden state shape == (batch_size, hidden size)\r\n",
        "        lstm output shape == (batch_size, max_length, hidden size)\r\n",
        "        \"\"\"\r\n",
        "        \r\n",
        "        #state_with_time_axis shape == (batch_size, 1, hidden size)\r\n",
        "        #we are doing this to broadcast addition along the time axis to calculate the score\r\n",
        "        state_with_time_axis = tf.expand_dims(hidden_state, 1)\r\n",
        "        \r\n",
        "        #score shape == (batch_size, max_length, 1)\r\n",
        "        #we get 1 at the last axis because we are applying score to self.V\r\n",
        "        #the shape of the tensor before applying self.V is (batch_size, max_length, units)\r\n",
        "        score = self.V(tf.nn.tanh(self.W1(state_with_time_axis) + self.W2(lstm_output)))\r\n",
        "\r\n",
        "        # attention_weights shape == (batch_size, max_length, 1)\r\n",
        "        attention_weights=tf.nn.softmax(score, axis=1)\r\n",
        "\r\n",
        "        # context_vector shape after sum == (batch_size, hidden_size)\r\n",
        "        context_vector = attention_weights*lstm_output\r\n",
        "        context_vector = tf.reduce_sum(context_vector, axis=1)  \r\n",
        "\r\n",
        "        return context_vector, attention_weights"
      ],
      "execution_count": null,
      "outputs": []
    },
    {
      "cell_type": "markdown",
      "metadata": {
        "id": "5QVjzdbqBZb0"
      },
      "source": [
        "<h2>9.2 Model Pipeline</h2>"
      ]
    },
    {
      "cell_type": "code",
      "metadata": {
        "id": "UWdSMaOE8ofj"
      },
      "source": [
        "#attention model\r\n",
        "def AttetionModel(MAXLENGTH, VOCAB_SIZE, LSTM_UNITS, ATT_UNITS, DENSE_UNITS, EMBEDDING_MATRIX, ):\r\n",
        "    \r\n",
        "    INPUT = Input(shape=(MAXLENGTH,), dtype='int32', name='Input_Layer')\r\n",
        "    EMBEDDING = Embedding(VOCAB_SIZE,\r\n",
        "                          EMBEDDING_DIM,\r\n",
        "                          weights=[EMBEDDING_MATRIX],\r\n",
        "                          input_length=MAXLENGTH,\r\n",
        "                          trainable=False,\r\n",
        "                          name=\"Embedding_Layer\")(INPUT)\r\n",
        "    SPATIAL_DP = tf.keras.layers.SpatialDropout1D(0.2, name=\"Spatial_Dropout1D\")(EMBEDDING)\r\n",
        "    LSTM_OUTPUT, FW_HIDDEN_ST, FW_CELL_ST, BW_HIDDEN_ST, BW_CELL_ST = tf.keras.layers.Bidirectional(LSTM(LSTM_UNITS,\r\n",
        "                                                                                                         return_sequences=True,\r\n",
        "                                                                                                         return_state=True))(SPATIAL_DP)\r\n",
        "    HIDDEN_STATE = tf.keras.layers.Concatenate()([FW_HIDDEN_ST, BW_HIDDEN_ST])\r\n",
        "    CONTEXT_VECTOR, _ = Attention(ATT_UNITS)(LSTM_OUTPUT, HIDDEN_STATE)\r\n",
        "    FLAT = tf.keras.layers.Flatten()(CONTEXT_VECTOR)\r\n",
        "    DROPOUT = Dropout(0.2)(FLAT)\r\n",
        "    DENSE = Dense(DENSE_UNITS, activation='relu', name= \"Dense_Layer\")(DROPOUT)\r\n",
        "    OUTPUT = Dense(2, activation='sigmoid', name= \"Output\")(DENSE)\r\n",
        "\r\n",
        "    return Model(INPUT,OUTPUT)"
      ],
      "execution_count": null,
      "outputs": []
    },
    {
      "cell_type": "markdown",
      "metadata": {
        "id": "vJLk5fOQBeNh"
      },
      "source": [
        "<h2>9.3 Fit and Compile</h2>"
      ]
    },
    {
      "cell_type": "code",
      "metadata": {
        "id": "SbeL4ndj8nYd",
        "colab": {
          "base_uri": "https://localhost:8080/"
        },
        "outputId": "c9ff8f49-6708-45e4-e0c4-fde938eca3fb"
      },
      "source": [
        "LSTM_UNITS = 64 \r\n",
        "ATT_UNITS = 10\r\n",
        "DENSE_UNITS = 32\r\n",
        "BATCH_SIZE = 128\r\n",
        "EPOCH = 10\r\n",
        "\r\n",
        "model = AttetionModel(MAXLENGTH, VOCAB_SIZE, LSTM_UNITS, ATT_UNITS, DENSE_UNITS, embeddings, )\r\n",
        "model.compile(loss = \"binary_crossentropy\", optimizer = \"adam\", metrics = [\"accuracy\"])\r\n",
        "\r\n",
        "model.fit(Xtrain, \r\n",
        "          ytrain, \r\n",
        "          batch_size=BATCH_SIZE, \r\n",
        "          verbose=1, \r\n",
        "          epochs=EPOCH,\r\n",
        "          validation_data=(Xcv,ycv), \r\n",
        "          shuffle=True,\r\n",
        "          callbacks=[earlyStopping, F1_Score])"
      ],
      "execution_count": null,
      "outputs": [
        {
          "output_type": "stream",
          "text": [
            "Epoch 1/10\n",
            "46/47 [============================>.] - ETA: 0s - loss: 0.5515 - accuracy: 0.7308 - F1 SCORE: [0.844  0.7655]\n",
            "47/47 [==============================] - 2s 45ms/step - loss: 0.5500 - accuracy: 0.7318 - val_loss: 0.4477 - val_accuracy: 0.8095\n",
            "Epoch 2/10\n",
            "43/47 [==========================>...] - ETA: 0s - loss: 0.4231 - accuracy: 0.8145 - F1 SCORE: [0.8463 0.7567]\n",
            "47/47 [==============================] - 1s 15ms/step - loss: 0.4245 - accuracy: 0.8136 - val_loss: 0.4306 - val_accuracy: 0.8115\n",
            "Epoch 3/10\n",
            "43/47 [==========================>...] - ETA: 0s - loss: 0.4129 - accuracy: 0.8170 - F1 SCORE: [0.8422 0.7607]\n",
            "47/47 [==============================] - 1s 15ms/step - loss: 0.4082 - accuracy: 0.8216 - val_loss: 0.4342 - val_accuracy: 0.8101\n"
          ],
          "name": "stdout"
        },
        {
          "output_type": "execute_result",
          "data": {
            "text/plain": [
              "<tensorflow.python.keras.callbacks.History at 0x7f463e4f4438>"
            ]
          },
          "metadata": {
            "tags": []
          },
          "execution_count": 43
        }
      ]
    },
    {
      "cell_type": "markdown",
      "metadata": {
        "id": "G2RUxCF6BjpN"
      },
      "source": [
        "<h2>9.4 Prediction with Best Threshold</h2>"
      ]
    },
    {
      "cell_type": "code",
      "metadata": {
        "id": "5i16tocCBv4w",
        "colab": {
          "base_uri": "https://localhost:8080/"
        },
        "outputId": "b79ad7a3-33f9-4de9-fc9f-e39d7fbec3e8"
      },
      "source": [
        "#prediction\r\n",
        "ypred = model.predict(Xcv, batch_size=128,verbose=1)\r\n",
        "\r\n",
        "#getting threshold\r\n",
        "threshold = dict()\r\n",
        "for thresh in np.arange(0.1, 0.501, 0.05):\r\n",
        "    thresh = np.round(thresh, 2)\r\n",
        "    print(\"F1 score at threshold {0} is {1}\".format(thresh, round(list(sklearn.metrics.f1_score(ycv, (ypred>thresh).astype(int),\r\n",
        "                                                                                                average=None))[1],3)))\r\n",
        "    threshold[thresh] = round(list(sklearn.metrics.f1_score(ycv, \r\n",
        "                                                            (ypred>thresh).astype(int), \r\n",
        "                                                            average=None))[1],3)\r\n",
        "print(\"\\nThe best threshold is:\",max(threshold, \r\n",
        "                                     key=threshold.get))"
      ],
      "execution_count": null,
      "outputs": [
        {
          "output_type": "stream",
          "text": [
            "12/12 [==============================] - 0s 6ms/step\n",
            "F1 score at threshold 0.1 is 0.656\n",
            "F1 score at threshold 0.15 is 0.71\n",
            "F1 score at threshold 0.2 is 0.74\n",
            "F1 score at threshold 0.25 is 0.755\n",
            "F1 score at threshold 0.3 is 0.764\n",
            "F1 score at threshold 0.35 is 0.757\n",
            "F1 score at threshold 0.4 is 0.766\n",
            "F1 score at threshold 0.45 is 0.765\n",
            "F1 score at threshold 0.5 is 0.761\n",
            "\n",
            "The best threshold is: 0.4\n"
          ],
          "name": "stdout"
        }
      ]
    },
    {
      "cell_type": "code",
      "metadata": {
        "id": "8JI3tTf4A7Io",
        "colab": {
          "base_uri": "https://localhost:8080/"
        },
        "outputId": "7d0de7e7-1d7a-4e72-e742-f40db4e12509"
      },
      "source": [
        "#printing classification report using the best threshold\r\n",
        "ypredicted = (ypred>max(threshold, key=threshold.get)).astype(int)\r\n",
        "print(\"Classification Report:\\n\",sklearn.metrics.classification_report(ycv,ypredicted))"
      ],
      "execution_count": null,
      "outputs": [
        {
          "output_type": "stream",
          "text": [
            "Classification Report:\n",
            "               precision    recall  f1-score   support\n",
            "\n",
            "           0       0.79      0.92      0.85       861\n",
            "           1       0.79      0.75      0.77       640\n",
            "\n",
            "   micro avg       0.79      0.85      0.82      1501\n",
            "   macro avg       0.79      0.83      0.81      1501\n",
            "weighted avg       0.79      0.85      0.81      1501\n",
            " samples avg       0.81      0.85      0.82      1501\n",
            "\n"
          ],
          "name": "stdout"
        }
      ]
    },
    {
      "cell_type": "code",
      "metadata": {
        "id": "TVdcMmDxCMRk",
        "colab": {
          "base_uri": "https://localhost:8080/"
        },
        "outputId": "3e78780c-7a0c-4267-bbd6-f44926a21f87"
      },
      "source": [
        "#predicting test data\r\n",
        "ypredict = list()\r\n",
        "ypred = model.predict(Xtest, batch_size=512,verbose=1)\r\n",
        "for i in ypred:\r\n",
        "    ypredict.append((i[1]>max(threshold, key=threshold.get)).astype(int))\r\n",
        "\r\n",
        "#creating dataframe\r\n",
        "test = pd.DataFrame({\"id\":test_df[\"id\"].values})\r\n",
        "test['target'] = ypredict\r\n",
        "print(\"Test Output:\\n\",test['target'].value_counts())\r\n",
        "\r\n",
        "#test.to_csv('submission.csv', index=False)"
      ],
      "execution_count": null,
      "outputs": [
        {
          "output_type": "stream",
          "text": [
            "7/7 [==============================] - 0s 10ms/step\n",
            "Test Output:\n",
            " 0    1944\n",
            "1    1319\n",
            "Name: target, dtype: int64\n"
          ],
          "name": "stdout"
        }
      ]
    }
  ]
}