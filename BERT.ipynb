{
  "nbformat": 4,
  "nbformat_minor": 0,
  "metadata": {
    "accelerator": "GPU",
    "colab": {
      "name": "BERT Experiment.ipynb",
      "provenance": [],
      "collapsed_sections": []
    },
    "kernelspec": {
      "display_name": "Python 3",
      "name": "python3"
    }
  },
  "cells": [
    {
      "cell_type": "markdown",
      "metadata": {
        "id": "_DRoAH5oxh-q"
      },
      "source": [
        "<h1>Natural Language Processing with Disaster Tweets</h1>\r\n",
        "\r\n",
        "<b>Predict which Tweets are about real disasters and which ones are not</b>\r\n",
        "\r\n",
        "<h2>Getting Started</h2>\r\n",
        "\r\n",
        "This particular challenge is perfect for data scientists looking to get started with Natural Language Processing. The competition dataset is not too big, and even if you don’t have much personal computing power, you can do all of the work in our free, no-setup, Jupyter Notebooks environment called Kaggle Notebooks.\r\n",
        "\r\n",
        "Link: https://www.kaggle.com/c/nlp-getting-started\r\n",
        "\r\n",
        "<h2>Dataset</h2>\r\n", 
        "\r\n",
        "The project contains 3 datasets.\r\n",
        "1. train.csv - the training set\r\n",
        "2. test.csv - the test set\r\n",
        "3. sample_submission.csv - a sample submission file in the correct format\r\n",
        "\r\n",
        "<h3>train.csv</h3>\r\n",
        "\r\n",
        "Each sample in the train and test set has the following information:\r\n",
        "\r\n",
        "1. The <b>text</b> of a tweet\r\n",
        "2. A <b>keyword</b> from that tweet (although this may be blank!)\r\n",
        "3. The <b>location</b> the tweet was sent from (may also be blank)\r\n",
        "\r\n",
        "We are predicting whether a given tweet is about a real disaster or not. If so, predict a 1. If not, predict a 0.\r\n",
        "\r\n",
        "<h4>Columns</h4>\r\n",  
        "\r\n",
        "1. id - a unique identifier for each tweet\r\n",
        "2. text - the text of the tweet\r\n",
        "3. location - the location the tweet was sent from (may be blank)\r\n",
        "4. keyword - a particular keyword from the tweet (may be blank)\r\n",
        "5. target - in train.csv only, this denotes whether a tweet is about a real disaster (1) or not (0)\r\n",
        "\r\n",
        "<h2>Evaluation</h2>\r\n",
        "\r\n",
        "Submissions are evaluated using <b>F1</b> between the predicted and expected answers.\r\n"
      ]
    },
    {
      "cell_type": "markdown",
      "metadata": {
        "id": "2fQ_N_l1yStc"
      },
      "source": [
        "<h2>1. Import Dataset and Libraries</h2>"
      ]
    },
    {
      "cell_type": "code",
      "metadata": {
        "id": "J1DGCSNvkdl-"
      },
      "source": [
        "import warnings\r\n",
        "warnings.filterwarnings('ignore')\r\n",
        "\r\n",
        "import re\r\n",
        "import nltk\r\n",
        "import pickle\r\n",
        "import operator\r\n",
        "import numpy as np\r\n",
        "import pandas as pd\r\n",
        "from tqdm import tqdm\r\n",
        "import seaborn as sns\r\n",
        "import matplotlib.pyplot as pt\r\n",
        "from collections import defaultdict\r\n",
        "import sklearn\r\n",
        "\r\n",
        "import tensorflow_hub\r\n",
        "import tensorflow as tf\r\n",
        "import transformers\r\n",
        "from transformers import BertTokenizerFast, TFBertModel, BertTokenizer\r\n",
        "from tensorflow.keras.backend import clear_session\r\n",
        "from tensorflow.keras.callbacks import EarlyStopping \r\n",
        "from tensorflow.keras import Model, regularizers, optimizers\r\n",
        "from tensorflow.keras.layers import Dense, Input, Dropout, Flatten, Activation, Concatenate"
      ],
      "execution_count": 2,
      "outputs": []
    },
    {
      "cell_type": "code",
      "metadata": {
        "colab": {
          "base_uri": "https://localhost:8080/"
        },
        "id": "whPnqog9kglQ",
        "outputId": "d6955e7d-0040-494b-a595-a9c651cfb0c2"
      },
      "source": [
        "%%time\r\n",
        "train_df = pd.read_csv(\"../train.csv\")\r\n",
        "test_df = pd.read_csv(\"../test.csv\")"
      ],
      "execution_count": 3,
      "outputs": [
        {
          "output_type": "stream",
          "text": [
            "CPU times: user 28.2 ms, sys: 5.21 ms, total: 33.4 ms\n",
            "Wall time: 40.8 ms\n"
          ],
          "name": "stdout"
        }
      ]
    },
    {
      "cell_type": "code",
      "metadata": {
        "colab": {
          "base_uri": "https://localhost:8080/",
          "height": 202
        },
        "id": "ElJQi0hR9YMi",
        "outputId": "b48a7991-a2f7-42d6-bd31-51ea26d2d11f"
      },
      "source": [
        "train_df.head()"
      ],
      "execution_count": 4,
      "outputs": [
        {
          "output_type": "execute_result",
          "data": {
            "text/html": [
              "<div>\n",
              "<style scoped>\n",
              "    .dataframe tbody tr th:only-of-type {\n",
              "        vertical-align: middle;\n",
              "    }\n",
              "\n",
              "    .dataframe tbody tr th {\n",
              "        vertical-align: top;\n",
              "    }\n",
              "\n",
              "    .dataframe thead th {\n",
              "        text-align: right;\n",
              "    }\n",
              "</style>\n",
              "<table border=\"1\" class=\"dataframe\">\n",
              "  <thead>\n",
              "    <tr style=\"text-align: right;\">\n",
              "      <th></th>\n",
              "      <th>id</th>\n",
              "      <th>keyword</th>\n",
              "      <th>location</th>\n",
              "      <th>text</th>\n",
              "      <th>target</th>\n",
              "    </tr>\n",
              "  </thead>\n",
              "  <tbody>\n",
              "    <tr>\n",
              "      <th>0</th>\n",
              "      <td>1</td>\n",
              "      <td>NaN</td>\n",
              "      <td>NaN</td>\n",
              "      <td>Our Deeds are the Reason of this #earthquake M...</td>\n",
              "      <td>1</td>\n",
              "    </tr>\n",
              "    <tr>\n",
              "      <th>1</th>\n",
              "      <td>4</td>\n",
              "      <td>NaN</td>\n",
              "      <td>NaN</td>\n",
              "      <td>Forest fire near La Ronge Sask. Canada</td>\n",
              "      <td>1</td>\n",
              "    </tr>\n",
              "    <tr>\n",
              "      <th>2</th>\n",
              "      <td>5</td>\n",
              "      <td>NaN</td>\n",
              "      <td>NaN</td>\n",
              "      <td>All residents asked to 'shelter in place' are ...</td>\n",
              "      <td>1</td>\n",
              "    </tr>\n",
              "    <tr>\n",
              "      <th>3</th>\n",
              "      <td>6</td>\n",
              "      <td>NaN</td>\n",
              "      <td>NaN</td>\n",
              "      <td>13,000 people receive #wildfires evacuation or...</td>\n",
              "      <td>1</td>\n",
              "    </tr>\n",
              "    <tr>\n",
              "      <th>4</th>\n",
              "      <td>7</td>\n",
              "      <td>NaN</td>\n",
              "      <td>NaN</td>\n",
              "      <td>Just got sent this photo from Ruby #Alaska as ...</td>\n",
              "      <td>1</td>\n",
              "    </tr>\n",
              "  </tbody>\n",
              "</table>\n",
              "</div>"
            ],
            "text/plain": [
              "   id keyword  ...                                               text target\n",
              "0   1     NaN  ...  Our Deeds are the Reason of this #earthquake M...      1\n",
              "1   4     NaN  ...             Forest fire near La Ronge Sask. Canada      1\n",
              "2   5     NaN  ...  All residents asked to 'shelter in place' are ...      1\n",
              "3   6     NaN  ...  13,000 people receive #wildfires evacuation or...      1\n",
              "4   7     NaN  ...  Just got sent this photo from Ruby #Alaska as ...      1\n",
              "\n",
              "[5 rows x 5 columns]"
            ]
          },
          "metadata": {
            "tags": []
          },
          "execution_count": 4
        }
      ]
    },
    {
      "cell_type": "code",
      "metadata": {
        "colab": {
          "base_uri": "https://localhost:8080/"
        },
        "id": "xzbE4vnY9hcn",
        "outputId": "03982610-d190-4077-b2c2-5928a3b6e4c3"
      },
      "source": [
        "print(\"Shape of the train dataset is:\",train_df.shape)\r\n",
        "print(\"Shape of the test dataset is:\",test_df.shape)"
      ],
      "execution_count": 5,
      "outputs": [
        {
          "output_type": "stream",
          "text": [
            "Shape of the train dataset is: (7613, 5)\n",
            "Shape of the test dataset is: (3263, 4)\n"
          ],
          "name": "stdout"
        }
      ]
    },
    {
      "cell_type": "markdown",
      "metadata": {
        "id": "yaw4zzIbyhLO"
      },
      "source": [
        "<h3>1.1 checking for missing values</h3>"
      ]
    },
    {
      "cell_type": "code",
      "metadata": {
        "colab": {
          "base_uri": "https://localhost:8080/"
        },
        "id": "XRknKYfJ9ju1",
        "outputId": "16391542-82e8-4ed2-822f-c0dc8f455c0f"
      },
      "source": [
        "missing_status = train_df.isna().any().any()\r\n",
        "print(\"Are there any missing values present in the dataset?\")\r\n",
        "print('No' if missing_status==False else \"Yes\")"
      ],
      "execution_count": 6,
      "outputs": [
        {
          "output_type": "stream",
          "text": [
            "Are there any missing values present in the dataset?\n",
            "Yes\n"
          ],
          "name": "stdout"
        }
      ]
    },
    {
      "cell_type": "code",
      "metadata": {
        "colab": {
          "base_uri": "https://localhost:8080/"
        },
        "id": "ZsmOsaqvyq4m",
        "outputId": "5e2892e5-cf3b-4984-d61a-b704de99f60e"
      },
      "source": [
        "train_df.apply(lambda x: sum(x.isnull()),axis=0)"
      ],
      "execution_count": 7,
      "outputs": [
        {
          "output_type": "execute_result",
          "data": {
            "text/plain": [
              "id             0\n",
              "keyword       61\n",
              "location    2533\n",
              "text           0\n",
              "target         0\n",
              "dtype: int64"
            ]
          },
          "metadata": {
            "tags": []
          },
          "execution_count": 7
        }
      ]
    },
    {
      "cell_type": "markdown",
      "metadata": {
        "id": "-wSc3Ppmyw14"
      },
      "source": [
        "<pre>Keywards and location data has some amount of missing values here. As we are not dealing with these features, we don't need to fill the NA values.</pre>"
      ]
    },
    {
      "cell_type": "markdown",
      "metadata": {
        "id": "WMfFm8YUyzqJ"
      },
      "source": [
        "<h3>1.2 checking for duplicate rows</h3>"
      ]
    },
    {
      "cell_type": "code",
      "metadata": {
        "colab": {
          "base_uri": "https://localhost:8080/"
        },
        "id": "Z-KI96omyq7e",
        "outputId": "89f01705-3bae-42b2-e172-228c53486b74"
      },
      "source": [
        "duplicate_status = len(train_df[train_df[\"text\"].duplicated()])\r\n",
        "print(\"Are there any duplicate rows present in the dataset?\")\r\n",
        "print('No' if duplicate_status==0 else \"Yes\")"
      ],
      "execution_count": 8,
      "outputs": [
        {
          "output_type": "stream",
          "text": [
            "Are there any duplicate rows present in the dataset?\n",
            "Yes\n"
          ],
          "name": "stdout"
        }
      ]
    },
    {
      "cell_type": "code",
      "metadata": {
        "colab": {
          "base_uri": "https://localhost:8080/"
        },
        "id": "A21Rr6Lzytjm",
        "outputId": "43d70df6-df6b-42c9-d528-b4c3e7ecaee1"
      },
      "source": [
        "#using groupby to get counts\r\n",
        "temp_df = train_df.groupby(['text']).size().reset_index(name='counts')\r\n",
        "#number of duplicate rows\r\n",
        "print(\"There are {} sentences in the dataset which has occured more than once.\"\r\n",
        "      .format(len(temp_df[temp_df[\"counts\"] > 1])))\r\n",
        "#duplicate rows\r\n",
        "print(\"They are:\\n\",temp_df[temp_df[\"counts\"] > 1])"
      ],
      "execution_count": 9,
      "outputs": [
        {
          "output_type": "stream",
          "text": [
            "There are 69 sentences in the dataset which has occured more than once.\n",
            "They are:\n",
            "                                                    text  counts\n",
            "24    #Allah describes piling up #wealth thinking it...       3\n",
            "45    #Bestnaijamade: 16yr old PKK suicide bomber wh...       6\n",
            "115   #KCA #VoteJKT48ID 12News: UPDATE: A family of ...       2\n",
            "141   #Myanmar  Displaced #Rohingya at #Sittwe point...       2\n",
            "157   #Newswatch: 2 vehicles collided at Lock and La...       2\n",
            "...                                                 ...     ...\n",
            "7237  incident with injury:I-495  inner loop Exit 31...       2\n",
            "7265  like for the music video I want some real acti...       2\n",
            "7371  that exploded &amp; brought about the\\nbeginni...       2\n",
            "7372  that horrible sinking feeling when youÛªve be...       4\n",
            "7449  wowo--=== 12000 Nigerian refugees repatriated ...       2\n",
            "\n",
            "[69 rows x 2 columns]\n"
          ],
          "name": "stdout"
        }
      ]
    },
    {
      "cell_type": "code",
      "metadata": {
        "colab": {
          "base_uri": "https://localhost:8080/"
        },
        "id": "pyHH0_aQytmj",
        "outputId": "93cd8eb1-0882-4e22-fd6c-21ed2839c5b4"
      },
      "source": [
        "print(\"Before dropping duplicates total rows present : {}\".format(train_df[\"text\"].shape[0]))\r\n",
        "#dropping duplicates\r\n",
        "df = train_df.drop_duplicates(subset =\"text\") \r\n",
        "print(\"After dropping duplicates total rows present : {}\".format(df[\"text\"].shape[0]))"
      ],
      "execution_count": 10,
      "outputs": [
        {
          "output_type": "stream",
          "text": [
            "Before dropping duplicates total rows present : 7613\n",
            "After dropping duplicates total rows present : 7503\n"
          ],
          "name": "stdout"
        }
      ]
    },
    {
      "cell_type": "markdown",
      "metadata": {
        "id": "rKkwVnBny9dA"
      },
      "source": [
        "<h3>1.3 info of features</h3>\r\n"
      ]
    },
    {
      "cell_type": "code",
      "metadata": {
        "colab": {
          "base_uri": "https://localhost:8080/"
        },
        "id": "Y1v5cScfytpo",
        "outputId": "453d4889-e548-4e8c-d99e-88e27b4b0d14"
      },
      "source": [
        "#getting features type information\r\n",
        "df.info()"
      ],
      "execution_count": 11,
      "outputs": [
        {
          "output_type": "stream",
          "text": [
            "<class 'pandas.core.frame.DataFrame'>\n",
            "Int64Index: 7503 entries, 0 to 7612\n",
            "Data columns (total 5 columns):\n",
            " #   Column    Non-Null Count  Dtype \n",
            "---  ------    --------------  ----- \n",
            " 0   id        7503 non-null   int64 \n",
            " 1   keyword   7447 non-null   object\n",
            " 2   location  5021 non-null   object\n",
            " 3   text      7503 non-null   object\n",
            " 4   target    7503 non-null   int64 \n",
            "dtypes: int64(2), object(3)\n",
            "memory usage: 351.7+ KB\n"
          ],
          "name": "stdout"
        }
      ]
    },
    {
      "cell_type": "markdown",
      "metadata": {
        "id": "a2wxumoLzDsY"
      },
      "source": [
        "<h3>1.4 target value analysis</h3>"
      ]
    },
    {
      "cell_type": "code",
      "metadata": {
        "colab": {
          "base_uri": "https://localhost:8080/",
          "height": 445
        },
        "id": "v2xDpDi2ytr_",
        "outputId": "06af0aff-7bb0-4f70-df3f-865650772164"
      },
      "source": [
        "#number of questions in the train dataset in both the class\r\n",
        "targets = df['target'].value_counts()\r\n",
        "print('Positive Tweets : ',targets[1])\r\n",
        "print('Negative Tweets : ',targets[0])\r\n",
        "\r\n",
        "labels = 'Positive', 'Negative'\r\n",
        "values = [targets[1], targets[0]]\r\n",
        "explode = (0, 0.01)\r\n",
        "fig = pt.figure(figsize=(15,7))\r\n",
        "pt.pie(values, explode=explode, labels=labels, autopct='%1.1f%%', shadow=True, startangle=30)\r\n",
        "pt.show()"
      ],
      "execution_count": 12,
      "outputs": [
        {
          "output_type": "stream",
          "text": [
            "Positive Tweets :  3198\n",
            "Negative Tweets :  4305\n"
          ],
          "name": "stdout"
        },
        {
          "output_type": "display_data",
          "data": {
            "image/png": "[encoded data removed]",
            "text/plain": [
              "<Figure size 1080x504 with 1 Axes>"
            ]
          },
          "metadata": {
            "tags": []
          }
        }
      ]
    },
    {
      "cell_type": "markdown",
      "metadata": {
        "id": "GKtIhofSzI4Z"
      },
      "source": [
        "<pre>\r\n",
        "Target value seems like a partially imbalance dataset where 43% belongs to positive class and rest negative.</pre>"
      ]
    },
    {
      "cell_type": "markdown",
      "metadata": {
        "id": "lAuM6QopzLoH"
      },
      "source": [
        "<h3>1.5 tweet analysis</h3>"
      ]
    },
    {
      "cell_type": "code",
      "metadata": {
        "colab": {
          "base_uri": "https://localhost:8080/"
        },
        "id": "JDWI2QaHytv5",
        "outputId": "6bf86abb-bb8d-40b6-92e1-b25670159bc0"
      },
      "source": [
        "#positive tweets\r\n",
        "print(\"Positive Tweets: \")\r\n",
        "print(df[df['target'] == 1][\"text\"].values[0])\r\n",
        "print(df[df['target'] == 1][\"text\"].values[3])\r\n",
        "#negative tweets\r\n",
        "print(\"\\nNegative Tweets: \")\r\n",
        "print(df[df['target'] == 0][\"text\"].values[0])\r\n",
        "print(df[df['target'] == 0][\"text\"].values[3])"
      ],
      "execution_count": 13,
      "outputs": [
        {
          "output_type": "stream",
          "text": [
            "Positive Tweets: \n",
            "Our Deeds are the Reason of this #earthquake May ALLAH Forgive us all\n",
            "13,000 people receive #wildfires evacuation orders in California \n",
            "\n",
            "Negative Tweets: \n",
            "What's up man?\n",
            "My car is so fast\n"
          ],
          "name": "stdout"
        }
      ]
    },
    {
      "cell_type": "markdown",
      "metadata": {
        "id": "44C4tNEtzPM5"
      },
      "source": [
        "<h2>2. Exploratory Data Analysis</h2>\r\n",
        "<h3>2.1 Univariate Analysis</h3>\r\n",
        "<h4>2.1.1 keyword</h4>"
      ]
    },
    {
      "cell_type": "code",
      "metadata": {
        "colab": {
          "base_uri": "https://localhost:8080/"
        },
        "id": "q5yK-QQgzQJz",
        "outputId": "6b7f1420-5369-4b45-a541-11a5ee19431c"
      },
      "source": [
        "#keyword is text object. It's has all words only.\r\n",
        "df[\"keyword\"] = df[\"keyword\"].str.lower()\r\n",
        "keywords = dict(df[\"keyword\"].value_counts())\r\n",
        "\r\n",
        "print(\"Total unique words present in keyword: {}\".format(len(keywords)))\r\n",
        "print(\"Top 10 frequent words: \\n{}\".format(list(keywords.keys())[0:20]))"
      ],
      "execution_count": 14,
      "outputs": [
        {
          "output_type": "stream",
          "text": [
            "Total unique words present in keyword: 221\n",
            "Top 10 frequent words: \n",
            "['fatalities', 'deluge', 'armageddon', 'damage', 'body%20bags', 'harm', 'fear', 'siren', 'windstorm', 'twister', 'evacuate', 'sinkhole', 'explosion', 'outbreak', 'wrecked', 'famine', 'whirlwind', 'earthquake', 'weapon', 'collided']\n"
          ],
          "name": "stdout"
        }
      ]
    },
    {
      "cell_type": "code",
      "metadata": {
        "colab": {
          "base_uri": "https://localhost:8080/",
          "height": 122
        },
        "id": "Fj78llnIzQMi",
        "outputId": "9e6b9873-06a0-4c7a-8069-2b9c271315c8"
      },
      "source": [
        "#distribution plot\r\n",
        "fig = pt.figure(figsize = (250,15))\r\n",
        "ax = pt.gca()\r\n",
        "ax.bar(list(keywords.keys()), list(keywords.values()))\r\n",
        "ax.set(xlabel=\"keywords\", ylabel=\"frequncy of occurance\", title=\"keywords distribution\")\r\n",
        "for p in ax.patches:\r\n",
        "    width = p.get_width()\r\n",
        "    height = p.get_height()\r\n",
        "    x, y = p.get_xy() \r\n",
        "    ax.annotate(f'{height}', (x + width/2, y + height*1.02), ha='center')\r\n",
        "ax.grid()\r\n",
        "pt.show()"
      ],
      "execution_count": 15,
      "outputs": [
        {
          "output_type": "display_data",
          "data": {
            "image/png": "[encoded data removed]",
            "text/plain": [
              "<Figure size 18000x1080 with 1 Axes>"
            ]
          },
          "metadata": {
            "tags": [],
            "needs_background": "light"
          }
        }
      ]
    },
    {
      "cell_type": "markdown",
      "metadata": {
        "id": "toIO2o70zPQb"
      },
      "source": [
        "<i><b>keyword feature may helpful as it covers symantic words related to disaster. But we are not covering this as there many missing values present.</b></i>"
      ]
    },
    {
      "cell_type": "markdown",
      "metadata": {
        "id": "tAatgFkxzdX6"
      },
      "source": [
        "<h4>2.1.2 Location</h4>"
      ]
    },
    {
      "cell_type": "code",
      "metadata": {
        "colab": {
          "base_uri": "https://localhost:8080/"
        },
        "id": "sHuyH3loytyr",
        "outputId": "0fbf7341-6efd-42b9-f4f2-7fa075b079b1"
      },
      "source": [
        "#keyword is text object. It's has all words only.\r\n",
        "df[\"location\"] = df[\"location\"].str.lower()\r\n",
        "locations = dict(df[\"location\"].value_counts())\r\n",
        "\r\n",
        "print(\"Total unique words present in location: {}\".format(len(locations)))\r\n",
        "print(\"Top 10 frequent words: \\n{}\".format(list(locations.keys())[0:20]))"
      ],
      "execution_count": 16,
      "outputs": [
        {
          "output_type": "stream",
          "text": [
            "Total unique words present in location: 3220\n",
            "Top 10 frequent words: \n",
            "['usa', 'new york', 'united states', 'london', 'canada', 'worldwide', 'uk', 'los angeles, ca', 'nigeria', 'india', 'mumbai', 'kenya', 'washington, dc', 'everywhere', 'chicago, il', 'california', 'australia', 'new york, ny', 'nyc', 'california, usa']\n"
          ],
          "name": "stdout"
        }
      ]
    },
    {
      "cell_type": "markdown",
      "metadata": {
        "id": "RGWlisanzmJg"
      },
      "source": [
        "<i><b>No matter what is your location if a tweet is fake/not true means doesn't add any value. So location won't be included.</b></i>"
      ]
    },
    {
      "cell_type": "markdown",
      "metadata": {
        "id": "B7yjKurR0cNQ"
      },
      "source": [
        "<h4>2.1.3 Text/Tweets</h4>\r\n",
        "<h5>character length distributions of the tweets</h5>"
      ]
    },
    {
      "cell_type": "code",
      "metadata": {
        "colab": {
          "base_uri": "https://localhost:8080/"
        },
        "id": "KEYB0aNjyt1n",
        "outputId": "33077859-9f9e-4c20-a5f0-dd2d137da7e7"
      },
      "source": [
        "df[\"length_of_tweets\"] = df[\"text\"].str.len()\r\n",
        "print(\"Minimum and Maximum length of characters in a tweet present in the dataset is {} and {} respectively.\".\r\n",
        "      format(min(df[\"length_of_tweets\"]), max(df[\"length_of_tweets\"])))"
      ],
      "execution_count": 17,
      "outputs": [
        {
          "output_type": "stream",
          "text": [
            "Minimum and Maximum length of characters in a tweet present in the dataset is 7 and 157 respectively.\n"
          ],
          "name": "stdout"
        }
      ]
    },
    {
      "cell_type": "code",
      "metadata": {
        "colab": {
          "base_uri": "https://localhost:8080/",
          "height": 202
        },
        "id": "vc7jOWq5yt4i",
        "outputId": "f50ac62a-940b-41ce-9638-57bc9d994ecd"
      },
      "source": [
        "df.head()"
      ],
      "execution_count": 18,
      "outputs": [
        {
          "output_type": "execute_result",
          "data": {
            "text/html": [
              "<div>\n",
              "<style scoped>\n",
              "    .dataframe tbody tr th:only-of-type {\n",
              "        vertical-align: middle;\n",
              "    }\n",
              "\n",
              "    .dataframe tbody tr th {\n",
              "        vertical-align: top;\n",
              "    }\n",
              "\n",
              "    .dataframe thead th {\n",
              "        text-align: right;\n",
              "    }\n",
              "</style>\n",
              "<table border=\"1\" class=\"dataframe\">\n",
              "  <thead>\n",
              "    <tr style=\"text-align: right;\">\n",
              "      <th></th>\n",
              "      <th>id</th>\n",
              "      <th>keyword</th>\n",
              "      <th>location</th>\n",
              "      <th>text</th>\n",
              "      <th>target</th>\n",
              "      <th>length_of_tweets</th>\n",
              "    </tr>\n",
              "  </thead>\n",
              "  <tbody>\n",
              "    <tr>\n",
              "      <th>0</th>\n",
              "      <td>1</td>\n",
              "      <td>NaN</td>\n",
              "      <td>NaN</td>\n",
              "      <td>Our Deeds are the Reason of this #earthquake M...</td>\n",
              "      <td>1</td>\n",
              "      <td>69</td>\n",
              "    </tr>\n",
              "    <tr>\n",
              "      <th>1</th>\n",
              "      <td>4</td>\n",
              "      <td>NaN</td>\n",
              "      <td>NaN</td>\n",
              "      <td>Forest fire near La Ronge Sask. Canada</td>\n",
              "      <td>1</td>\n",
              "      <td>38</td>\n",
              "    </tr>\n",
              "    <tr>\n",
              "      <th>2</th>\n",
              "      <td>5</td>\n",
              "      <td>NaN</td>\n",
              "      <td>NaN</td>\n",
              "      <td>All residents asked to 'shelter in place' are ...</td>\n",
              "      <td>1</td>\n",
              "      <td>133</td>\n",
              "    </tr>\n",
              "    <tr>\n",
              "      <th>3</th>\n",
              "      <td>6</td>\n",
              "      <td>NaN</td>\n",
              "      <td>NaN</td>\n",
              "      <td>13,000 people receive #wildfires evacuation or...</td>\n",
              "      <td>1</td>\n",
              "      <td>65</td>\n",
              "    </tr>\n",
              "    <tr>\n",
              "      <th>4</th>\n",
              "      <td>7</td>\n",
              "      <td>NaN</td>\n",
              "      <td>NaN</td>\n",
              "      <td>Just got sent this photo from Ruby #Alaska as ...</td>\n",
              "      <td>1</td>\n",
              "      <td>88</td>\n",
              "    </tr>\n",
              "  </tbody>\n",
              "</table>\n",
              "</div>"
            ],
            "text/plain": [
              "   id keyword  ... target length_of_tweets\n",
              "0   1     NaN  ...      1               69\n",
              "1   4     NaN  ...      1               38\n",
              "2   5     NaN  ...      1              133\n",
              "3   6     NaN  ...      1               65\n",
              "4   7     NaN  ...      1               88\n",
              "\n",
              "[5 rows x 6 columns]"
            ]
          },
          "metadata": {
            "tags": []
          },
          "execution_count": 18
        }
      ]
    },
    {
      "cell_type": "code",
      "metadata": {
        "colab": {
          "base_uri": "https://localhost:8080/"
        },
        "id": "o0Xf5U82yt7x",
        "outputId": "3bb8669e-ad35-4f1f-bdde-2683741249c4"
      },
      "source": [
        "df[\"length_of_tweets\"].describe() #description of length of characters"
      ],
      "execution_count": 19,
      "outputs": [
        {
          "output_type": "execute_result",
          "data": {
            "text/plain": [
              "count    7503.000000\n",
              "mean      100.880581\n",
              "std        33.819457\n",
              "min         7.000000\n",
              "25%        77.000000\n",
              "50%       107.000000\n",
              "75%       133.000000\n",
              "max       157.000000\n",
              "Name: length_of_tweets, dtype: float64"
            ]
          },
          "metadata": {
            "tags": []
          },
          "execution_count": 19
        }
      ]
    },
    {
      "cell_type": "code",
      "metadata": {
        "colab": {
          "base_uri": "https://localhost:8080/",
          "height": 386
        },
        "id": "pDxHPjM0yt-n",
        "outputId": "46443b5c-0759-47fe-c121-b2de41ca348b"
      },
      "source": [
        "#length distributions\r\n",
        "sns.FacetGrid(df,hue=\"target\", height=5, aspect=2.5).map(sns.distplot, \"length_of_tweets\").add_legend()"
      ],
      "execution_count": 20,
      "outputs": [
        {
          "output_type": "execute_result",
          "data": {
            "text/plain": [
              "<seaborn.axisgrid.FacetGrid at 0x7f9087abeeb8>"
            ]
          },
          "metadata": {
            "tags": []
          },
          "execution_count": 20
        },
        {
          "output_type": "display_data",
          "data": {
            "image/png": "[encoded data removed]",
            "text/plain": [
              "<Figure size 942.375x360 with 1 Axes>"
            ]
          },
          "metadata": {
            "tags": [],
            "needs_background": "light"
          }
        }
      ]
    },
    {
      "cell_type": "code",
      "metadata": {
        "colab": {
          "base_uri": "https://localhost:8080/",
          "height": 296
        },
        "id": "1I4CGnCB0pG-",
        "outputId": "5d556025-1688-4e78-f705-d5632b542f67"
      },
      "source": [
        "#box plot\r\n",
        "df[\"word_length\"] = df[\"text\"].str.split().apply(len)\r\n",
        "sns.boxplot(y=\"word_length\", x= \"target\", data=df, palette = \"winter\")"
      ],
      "execution_count": 21,
      "outputs": [
        {
          "output_type": "execute_result",
          "data": {
            "text/plain": [
              "<matplotlib.axes._subplots.AxesSubplot at 0x7f9083071898>"
            ]
          },
          "metadata": {
            "tags": []
          },
          "execution_count": 21
        },
        {
          "output_type": "display_data",
          "data": {
            "image/png": "[encoded data removed]",
            "text/plain": [
              "<Figure size 432x288 with 1 Axes>"
            ]
          },
          "metadata": {
            "tags": [],
            "needs_background": "light"
          }
        }
      ]
    },
    {
      "cell_type": "code",
      "metadata": {
        "colab": {
          "base_uri": "https://localhost:8080/",
          "height": 405
        },
        "id": "QtWQ0K3K0pKU",
        "outputId": "8a2de0d4-3ce6-42c9-c9c7-6a91f1e61585"
      },
      "source": [
        "def dist_plot(input_feature):\r\n",
        "    sns.FacetGrid(df, hue=\"target\", size=5.5, aspect=2.2).map(sns.distplot, input_feature).add_legend()\r\n",
        "    pt.show()\r\n",
        "dist_plot(\"word_length\")"
      ],
      "execution_count": 22,
      "outputs": [
        {
          "output_type": "display_data",
          "data": {
            "image/png": "[encoded data removed]",
            "text/plain": [
              "<Figure size 913.575x396 with 1 Axes>"
            ]
          },
          "metadata": {
            "tags": [],
            "needs_background": "light"
          }
        }
      ]
    },
    {
      "cell_type": "markdown",
      "metadata": {
        "id": "M9PIO5ZY0utv"
      },
      "source": [
        "<pre>\r\n",
        "There is a overlap of characters and words present in tweets in both target class. Also there are some outliers present in positive target class as we can see in box plot.\r\n",
        "</pre>"
      ]
    },
    {
      "cell_type": "markdown",
      "metadata": {
        "id": "ZLjh-Gyv0waT"
      },
      "source": [
        "<h2>3. Text Preprocessing</h2>\r\n"
      ]
    },
    {
      "cell_type": "code",
      "metadata": {
        "id": "kw6GIWYW0pNH"
      },
      "source": [
        "#Source: - https://en.wikipedia.org/wiki/Wikipedia:List_of_English_contractions\r\n",
        "#some of the known contractions\r\n",
        "contractions = {\"'aight\": 'alright', \"ain't\": 'am not', \"amn't\": 'am not', \"aren't\": 'are not', \"can't\": 'can not', \"'cause\": 'because', \"could've\": 'could have', \"couldn't\": 'could not',\r\n",
        "                \"couldn't've\": 'could not have', \"daren't\": 'dare not', \"daresn't\": 'dare not', \"dasn't\": 'dare not', \"didn't\": 'did not', \"doesn't\": 'does not', \"don't\": 'do not', \r\n",
        "                'dunno': \"don't know\", \"d'ye\": 'do you', \"e'er\": 'ever', \"everybody's\": 'everybody is', \"everyone's\": 'everyone is', 'finna': 'fixing to', \"g'day\": 'good day', \r\n",
        "                'gimme': 'give me', \"giv'n\": 'given', 'gonna': 'going to', \"gon't\": 'go not', 'gotta': 'got to', \"hadn't\": 'had not', \"had've\": 'had have', \"hasn't\": 'has not', \r\n",
        "                \"haven't\": 'have not', \"he'd\": 'he had', \"he'll\": 'he will', \"he's\": 'he is', \"he've\": 'he have', \"how'd\": 'how did', 'howdy': 'how do you do', \"how'll\": 'how will',\r\n",
        "                \"how're\": 'how are', \"how's\": 'how is', \"I'd\": 'I had', \"I'd've\": 'I would have', \"I'll\": 'I will', \"I'm\": 'I am', \"I'm'a\": 'I am about to', \"I'm'o\": 'I am going to', \r\n",
        "                'innit': 'is it not', \"I've\": 'I have', \"isn't\": 'is not', \"it'd \": 'it would', \"it'll\": 'it will', \"it's \": 'it is', 'iunno': \"I don't know\", \"let's\": 'let us', \r\n",
        "                \"ma'am\": 'madam', \"mayn't\": 'may not', \"may've\": 'may have', 'methinks': 'me thinks', \"mightn't\": 'might not', \"might've\": 'might have', \"mustn't\": 'must not', \r\n",
        "                \"mustn't've\": 'must not have', \"must've\": 'must have', \"needn't\": 'need not', 'nal': 'and all', \"ne'er\": 'never', \"o'clock\": 'of the clock', \"o'er\": 'over',\r\n",
        "                \"ol'\": 'old', \"oughtn't\": 'ought not', \"'s\": 'is', \"shalln't\": 'shall not', \"shan't\": 'shall not', \"she'd\": 'she would', \"she'll\": 'she will', \"she's\": 'she is', \r\n",
        "                \"should've\": 'should have', \"shouldn't\": 'should not', \"shouldn't've\": 'should not have', \"somebody's\": 'somebody has', \"someone's\": 'someone has', \r\n",
        "                \"something's\": 'something has', \"so're\": 'so are', \"that'll\": 'that will', \"that're\": 'that are', \"that's\": 'that is', \"that'd\": 'that would', \"there'd\": 'there would', \r\n",
        "                \"there'll\": 'there will', \"there're\": 'there are', \"there's\": 'there is', \"these're\": 'these are', \"they've\": 'they have', \"this's\": 'this is', \"those're\": 'those are',\r\n",
        "                \"those've\": 'those have', \"'tis\": 'it is', \"to've\": 'to have', \"'twas\": 'it was', 'wanna': 'want to', \"wasn't\": 'was not', \"we'd\": 'we would',  \"we'd've\": 'we would have',\r\n",
        "                \"we'll\": 'we will', \"we're\": 'we are', \"we've\": 'we have', \"weren't\": 'were not',  \"what'd\": 'what did', \"what'll\": 'what will', \"what're\": 'what are', \r\n",
        "                \"what's\": 'what does', \"what've\": 'what have',\"when's\": 'when is', \"where'd\": 'where did', \"where'll\": 'where will', \"where're\": 'where are',\"where's\": 'where is',\r\n",
        "                \"where've\": 'where have', \"which'd\": 'which would', \"which'll\": 'which will', \"which're\": 'which are',\"which's\": 'which is', \"which've\": 'which have', \"who'd\": 'who would',\r\n",
        "                \"who'd've\": 'who would have', \"who'll\": 'who will', \"who're\": 'who are', \"who'ves\": 'who is', \"who'\": 'who have',\"why'd\": 'why did', \"why're\": 'why are', \"why's\": 'why does',\r\n",
        "                \"willn't\": 'will not', \"won't\": 'will not', 'wonnot': 'will not', \"would've\": 'would have', \"wouldn't\": 'would not', \"wouldn't've\": 'would not have',\"y'all\": 'you all',\r\n",
        "                \"y'all'd've\": 'you all would have', \"y'all'd'n've\": 'you all would not have',\"y'all're\": 'you all are', \"cause\":\"because\",\"have't\":\"have not\",\"cann't\":\"can not\",\r\n",
        "                \"ain't\":\"am not\", \"you'd\": 'you would', \"you'll\": 'you will', \"you're\": 'you are', \"you've\": 'you have', 'cannot': 'can not', 'wont': 'will not', \"You'\": 'Am not', \r\n",
        "                \"Ain'\": 'Am not', \"Amn'\": 'Am not', \"Aren'\": 'Are not', \"Can'\": 'Because', \"Could'\": 'Could have', \"Couldn'\": 'Could not have', \"Daren'\": 'Dare not', \"Daresn'\": 'Dare not',\r\n",
        "                \"Dasn'\": 'Dare not', \"Didn'\": 'Did not', \"Doesn'\": 'Does not', \"Don'\": \"Don't know\", \"D'\": 'Do you', \"E'\": 'Ever', \"Everybody'\": 'Everybody is', \"Everyone'\": 'Fixing to', \r\n",
        "                \"G'\": 'Give me', \"Giv'\": 'Going to', \"Gon'\": 'Got to', \"Hadn'\": 'Had not', \"Had'\": 'Had have', \"Hasn'\": 'Has not', \"Haven'\": 'Have not', \"He'\": 'He have', \"How'\": 'How is',\r\n",
        "                \"I'\": 'I have', \"Isn'\": 'Is not', \"It'\": \"I don't know\", \"Let'\": 'Let us', \"Ma'\": 'Madam', \"Mayn'\": 'May not', \"May'\": 'Me thinks', \"Mightn'\": 'Might not', \r\n",
        "                \"Might'\": 'Might have', \"Mustn'\": 'Must not have', \"Must'\": 'Must have', \"Needn'\": 'And all', \"Ne'\": 'Never', \"O'\": 'Old', \"Oughtn'\": 'Is', \"Shalln'\": 'Shall not',\r\n",
        "                \"Shan'\": 'Shall not', \"She'\": 'She is', \"Should'\": 'Should have', \"Shouldn'\": 'Should not have', \"Somebody'\": 'Somebody has', \"Someone'\": 'Someone has', \r\n",
        "                \"Something'\": 'Something has', \"So'\": 'So are', \"That'\": 'That would', \"There'\": 'There is', \"They'\": 'They have', \"This'\": 'This is', \"Those'\": 'It is', \"To'\": 'Want to',\r\n",
        "                \"Wasn'\": 'Was not', \"Weren'\": 'Were not', \"What'\": 'What have', \"When'\": 'When is', \"Where'\": 'Where have', \"Which'\": 'Which have', \"Who'\": 'Who have', \"Why'\": 'Why does',\r\n",
        "                \"Willn'\": 'Will not', \"Won'\": 'Will not', \"Would'\": 'Would have',\"Wouldn'\": 'Would not have', \"Y'\": 'You all are',\"What's\":\"What is\",\"What're\":\"What are\",\"what's\":\"what is\",\r\n",
        "                \"what're\":\"what are\", \"Who're\":\"Who are\", \"your're\":\"you are\",\"you're\":\"you are\", \"You're\":\"You are\",\"We're\":\"We are\", \"These'\": 'These have', \"we're\":\"we are\",\r\n",
        "                \"Why're\":\"Why are\",\"How're\":\"How are \",\"how're \":\"how are \",\"they're \":\"they are \", \"befo're\":\"before\",\"'re \":\" are \",'don\"t ':\"do not\", \"Won't \":\"Will not \",\r\n",
        "                \"could't\":\"could not\", \"would't\":\"would not\", \"We'\": 'We have',\"Hasn't\":\"Has not\",\"n't\":\"not\", 'who\"s':\"who is\"}\r\n",
        "#punctuations to be removed\r\n",
        "strings = \"&${}?/.£@©¡¢(¼¬>+´,^`=[|¨~)]_\\-«%!;¤*':÷\"\r\n",
        "#correct words\r\n",
        "correct_words = {\"TyphoonDevastated\":\"Typhoon Devastated\", \"selfimage\":\"self image\", \"Time20150806\":\"Time 20150806\", \"ArianaGrande\":\"Ariana Grande\",\"IranDeal\":\"Iran Deal\",\"53inch\":\"53 inch\",\r\n",
        "                 \"RÌunion\":\"Reunion\", \"MeatLoving\":\"Meat Loving\", \"wheavenly \":\"heavenly\", \"MikeParrActor\":\"Mike Parr Actor\",\"ChicagoArea\":\"Chicago Area\", \"KerrickTrial\":\"Kerrick Trial\",\r\n",
        "                 \"PantherAttack\":\"Panther Attack\", \"YoungHeroesID\":\"Young Heroes ID\", \"socialnews\":\"social news\", \"CollisionNo\":\"Collision No\", \"USAgov\":\"USA gov\", \"MTVHottest\":\"MTV Hottest\",\r\n",
        "                 \"JapÌn\":\"Japan\",\"360WiseNews\":\"360 Wise News\", \"DiamondKesawn\":\"Diamond Kesawn\",\"TripleDigit\":\"Triple Digit\"}"
      ],
      "execution_count": 23,
      "outputs": []
    },
    {
      "cell_type": "code",
      "metadata": {
        "id": "VpHVmli20pPg"
      },
      "source": [
        "#function to remove unwanted characters, punctuations, decontractions etc\r\n",
        "def preprocessing(text, contractions, correct_words, strings):\r\n",
        "    \r\n",
        "    #punctuations table\r\n",
        "    translate_table = dict((ord(char), None) for char in strings) \r\n",
        "    sent_tokenizer = nltk.TweetTokenizer(preserve_case=True, strip_handles=True, reduce_len=True)\r\n",
        "    \r\n",
        "    for idx,tweet in enumerate(text.values):\r\n",
        "        \r\n",
        "        tweet = re.sub(r'^RT[\\s]+', '', tweet) #removes retweets\r\n",
        "        tweet = re.sub(r'https?://\\S+|www\\.\\S+', '', tweet) #removes hypertext\r\n",
        "        tweet = re.sub(r'https?:\\/\\/.*[\\r\\n]*', '', tweet) # removes hypertext\r\n",
        "        \r\n",
        "        #emoji removal\r\n",
        "        emoji= re.compile(\"[\"u\"\\U0001F600-\\U0001F64F\" #emoticons\r\n",
        "                            u\"\\U0001F300-\\U0001F5FF\" #symbols&pics\r\n",
        "                            u\"\\U0001F680-\\U0001F6FF\" #transportation pic\r\n",
        "                            u\"\\U0001F1E0-\\U0001F1FF\" #flags\r\n",
        "                            u\"\\U00002702-\\U000027B0\"\r\n",
        "                            u\"\\U000024C2-\\U0001F251\"\r\n",
        "                            \"]+\", flags = re.UNICODE)\r\n",
        "        tweet = emoji.sub(r'', tweet)\r\n",
        "\r\n",
        "        #decontraction\r\n",
        "        tweet = ' '.join(word.replace(word,contractions[word]) if word in contractions\r\n",
        "                    else word for word in tweet.split())\r\n",
        "        tweet = re.sub(r\"\\'s\", \" \", tweet); tweet = re.sub(r\"n\\'t\", \" not \", tweet)\r\n",
        "        tweet = re.sub(r\"\\'re \", \" are \", tweet); tweet = re.sub(r\"\\'d \", \" would\", tweet)\r\n",
        "        tweet = re.sub(r\"\\'ll \", \" will\", tweet); tweet = re.sub(r\"\\'ve \", \" have\", tweet)\r\n",
        "        tweet = re.sub(r\"\\'m \", \" am\", tweet)\r\n",
        "        \r\n",
        "        #general\r\n",
        "        tweet = re.sub(r'#', '', tweet); tweet = re.sub(r\"Û_\",\"\",tweet)\r\n",
        "        tweet = re.sub(r\"ÛÒ\",\"\",tweet); tweet = re.sub(r\"ÛÓ\",\"\",tweet)\r\n",
        "        tweet = re.sub(r\"ÛÏ\",\"\",tweet); tweet = re.sub(r\"Ûª\",\"'\",tweet)\r\n",
        "        tweet = re.sub(r\"åÊ\",\" \",tweet)\r\n",
        "\r\n",
        "        #removal of punctuations\r\n",
        "        tweet = tweet.translate(translate_table)\r\n",
        "\r\n",
        "        #replace incorrect words\r\n",
        "        tweet = ' '.join(word.replace(word,correct_words[word]) if word in correct_words else \r\n",
        "                         word for word in tweet.split())\r\n",
        "\r\n",
        "        #remove unwanted spaces\r\n",
        "        tweet = re.sub(\"\\s{2}\\s+\",\" \",tweet)\r\n",
        "        #assigning sentences back to the feature\r\n",
        "        text.values[idx] = tweet.strip()\r\n",
        "    \r\n",
        "    return text"
      ],
      "execution_count": 24,
      "outputs": []
    },
    {
      "cell_type": "code",
      "metadata": {
        "colab": {
          "base_uri": "https://localhost:8080/"
        },
        "id": "5BNkUmvA0pSS",
        "outputId": "2c817e9f-b7c3-4fa3-be46-096ceb1ad2bb"
      },
      "source": [
        "%%time\r\n",
        "df['preprocessed_text'] = preprocessing(df['text'], contractions, correct_words, strings)\r\n",
        "test_df['preprocessed_text'] = preprocessing(test_df['text'], contractions, correct_words, strings)"
      ],
      "execution_count": 25,
      "outputs": [
        {
          "output_type": "stream",
          "text": [
            "CPU times: user 356 ms, sys: 940 µs, total: 357 ms\n",
            "Wall time: 357 ms\n"
          ],
          "name": "stdout"
        }
      ]
    },
    {
      "cell_type": "markdown",
      "metadata": {
        "id": "kcWbfpwv1Ffv"
      },
      "source": [
        "<h3>3.1 word distribution analysis after text preprocessing</h3>"
      ]
    },
    {
      "cell_type": "code",
      "metadata": {
        "colab": {
          "base_uri": "https://localhost:8080/"
        },
        "id": "faiKb1x50pU4",
        "outputId": "96ac656b-28fa-429a-91d5-25e2f143c7ae"
      },
      "source": [
        "df[\"word_length_preprocessed\"] = df[\"preprocessed_text\"].str.split().apply(len)\r\n",
        "print(\"Minimum and Maximum length of words in a tweet present in the dataset is {} and {} respectively.\".\r\n",
        "      format(min(df[\"word_length\"]), max(df[\"word_length\"])))"
      ],
      "execution_count": 26,
      "outputs": [
        {
          "output_type": "stream",
          "text": [
            "Minimum and Maximum length of words in a tweet present in the dataset is 1 and 31 respectively.\n"
          ],
          "name": "stdout"
        }
      ]
    },
    {
      "cell_type": "code",
      "metadata": {
        "colab": {
          "base_uri": "https://localhost:8080/"
        },
        "id": "eUO9NSw30pYH",
        "outputId": "88ab5282-069f-4969-8905-f97073f29968"
      },
      "source": [
        "#there are lots of outlier present which we can see from box plot let's check the percentile values\r\n",
        "for i in range(0, 99, 10):\r\n",
        "    print(str(i) + \"th percentile : \"+ str(np.percentile(list(df[\"word_length_preprocessed\"].values), i)))\r\n",
        "for i in range(91, 100):\r\n",
        "    print(str(i) + \"th percentile : \"+ str(np.percentile(list(df[\"word_length_preprocessed\"].values), i)))\r\n",
        "for i in range(1,11):\r\n",
        "    i = (i/10) + 99\r\n",
        "    print(str(i) + \"th percentile : \"+ str(np.percentile(list(df[\"word_length_preprocessed\"].values), i)))"
      ],
      "execution_count": 27,
      "outputs": [
        {
          "output_type": "stream",
          "text": [
            "0th percentile : 1.0\n",
            "10th percentile : 7.0\n",
            "20th percentile : 9.0\n",
            "30th percentile : 10.0\n",
            "40th percentile : 12.0\n",
            "50th percentile : 14.0\n",
            "60th percentile : 16.0\n",
            "70th percentile : 17.0\n",
            "80th percentile : 19.0\n",
            "90th percentile : 22.0\n",
            "91th percentile : 23.0\n",
            "92th percentile : 23.0\n",
            "93th percentile : 24.0\n",
            "94th percentile : 24.0\n",
            "95th percentile : 24.0\n",
            "96th percentile : 25.0\n",
            "97th percentile : 26.0\n",
            "98th percentile : 27.0\n",
            "99th percentile : 28.0\n",
            "99.1th percentile : 28.0\n",
            "99.2th percentile : 28.0\n",
            "99.3th percentile : 28.0\n",
            "99.4th percentile : 28.0\n",
            "99.5th percentile : 29.0\n",
            "99.6th percentile : 29.0\n",
            "99.7th percentile : 29.0\n",
            "99.8th percentile : 30.0\n",
            "99.9th percentile : 30.498000000000502\n",
            "100.0th percentile : 32.0\n"
          ],
          "name": "stdout"
        }
      ]
    },
    {
      "cell_type": "markdown",
      "metadata": {
        "id": "u-01Nj6v1S22"
      },
      "source": [
        "<pre> As the word length is not much extreme after preprocessing, we can go for 32 as MAXLENGTH."
      ]
    },
    {
      "cell_type": "markdown",
      "metadata": {
        "id": "UMgwbNqL1VRa"
      },
      "source": [
        "<h2>4. Train Test Split</h2>"
      ]
    },
    {
      "cell_type": "code",
      "metadata": {
        "colab": {
          "base_uri": "https://localhost:8080/"
        },
        "id": "S8Cp3izv1Qwq",
        "outputId": "2ab7e844-26bd-4190-ecc3-1b1195f5c579"
      },
      "source": [
        "from sklearn.model_selection import train_test_split\r\n",
        "y = df['target']\r\n",
        "X = df.drop(columns = ['target'])\r\n",
        "\r\n",
        "X_train, X_cv, y_train, y_cv = train_test_split(X, y, test_size=0.20, stratify=y)\r\n",
        "print(\"The shape of train,cv & test dataset before conversion into vector\")\r\n",
        "print(X_train.shape, y_train.shape)\r\n",
        "print(X_cv.shape, y_cv.shape)\r\n",
        "print(test_df.shape)"
      ],
      "execution_count": 28,
      "outputs": [
        {
          "output_type": "stream",
          "text": [
            "The shape of train,cv & test dataset before conversion into vector\n",
            "(6002, 8) (6002,)\n",
            "(1501, 8) (1501,)\n",
            "(3263, 5)\n"
          ],
          "name": "stdout"
        }
      ]
    },
    {
      "cell_type": "markdown",
      "metadata": {
        "id": "ssjiXir01aC9"
      },
      "source": [
        "<h2>5. Output Data</h2>"
      ]
    },
    {
      "cell_type": "code",
      "metadata": {
        "id": "Y1Ao4XSt1Qzv"
      },
      "source": [
        "ytrain = tf.keras.utils.to_categorical(y_train, 2)\r\n",
        "ycv = tf.keras.utils.to_categorical(y_cv, 2)"
      ],
      "execution_count": 29,
      "outputs": []
    },
    {
      "cell_type": "markdown",
      "metadata": {
        "id": "U7mzDRQb1hbJ"
      },
      "source": [
        "<h2>6. Custom Callbacks</h2>"
      ]
    },
    {
      "cell_type": "code",
      "metadata": {
        "id": "_nAEeTzt1Q2j"
      },
      "source": [
        "#Custom F1 score callback\r\n",
        "class F1_SCORE(tf.keras.callbacks.Callback):\r\n",
        "\r\n",
        "    def __init__(self,train_data, val_data):\r\n",
        "        self.X_train, self.y_train = train_data[0], train_data[1]\r\n",
        "        self.X_val, self.y_val = val_data[0], val_data[1]\r\n",
        "\r\n",
        "    def on_train_begin(self, logs = {}):\r\n",
        "        self.F1 = list()\r\n",
        "\r\n",
        "    def on_epoch_end(self, epoch, logs = {}):\r\n",
        "        #F1 Score\r\n",
        "        y_pred = np.asarray(self.model.predict(self.X_val)).round()\r\n",
        "        F1Score = sklearn.metrics.f1_score(self.y_val, y_pred, average=None)\r\n",
        "        self.F1.append(F1Score)\r\n",
        "\r\n",
        "        print(\" - F1 SCORE: {}\".format(np.round(F1Score,4)))"
      ],
      "execution_count": 30,
      "outputs": []
    },
    {
      "cell_type": "markdown",
      "metadata": {
        "id": "vj4yWEeb1oNk"
      },
      "source": [
        "<h2>7. BERT</h2>\r\n",
        "\r\n",
        "BERT is an open source machine learning framework for natural language processing (NLP). BERT is designed to help computers understand the meaning of ambiguous language in text by using surrounding text to establish context. The BERT framework was pre-trained using text from Wikipedia and can be fine-tuned with question and answer datasets.\r\n",
        "\r\n",
        "BERT, which stands for Bidirectional Encoder Representations from Transformers, is based on Transformers, a deep learning model in which every output element is connected to every input element, and the weightings between them are dynamically calculated based upon their connection. (In NLP, this process is called attention.)"
      ]
    },
    {
      "cell_type": "markdown",
      "metadata": {
        "id": "Ribi7DRu12qZ"
      },
      "source": [
        "<h3>7.1 Tokenization</h3>"
      ]
    },
    {
      "cell_type": "code",
      "metadata": {
        "id": "wPq_PFlSfiOc"
      },
      "source": [
        "MAXLENGTH = 32"
      ],
      "execution_count": 31,
      "outputs": []
    },
    {
      "cell_type": "code",
      "metadata": {
        "id": "ZzKOAU-P1Q5P"
      },
      "source": [
        "def TOKENIZATION(data, tokenizer, maxlength,):\r\n",
        "    #encode text\r\n",
        "    tokens = tokenizer.batch_encode_plus(data.tolist(),\r\n",
        "                                        max_length=maxlength, \r\n",
        "                                        pad_to_max_length=True,\r\n",
        "                                        truncation=True)\r\n",
        "    #get the 3 tokenized outputs\r\n",
        "    return np.array(tokens[\"input_ids\"]), np.array(tokens[\"attention_mask\"]), np.array(tokens[\"token_type_ids\"])"
      ],
      "execution_count": 32,
      "outputs": []
    },
    {
      "cell_type": "code",
      "metadata": {
        "colab": {
          "base_uri": "https://localhost:8080/"
        },
        "id": "LeZ01OD61Q8U",
        "outputId": "6396a29e-5d82-4fff-84f4-e1f26ca3d77c"
      },
      "source": [
        "%%time\r\n",
        "tokenizer = transformers.BertTokenizer.from_pretrained(\"bert-large-uncased\") \r\n",
        "#Construct a “fast” BERT tokenizer (backed by HuggingFace’s tokenizers library). Based on WordPiece."
      ],
      "execution_count": 33,
      "outputs": [
        {
          "output_type": "stream",
          "text": [
            "CPU times: user 48.1 ms, sys: 3.92 ms, total: 52 ms\n",
            "Wall time: 603 ms\n"
          ],
          "name": "stdout"
        }
      ]
    },
    {
      "cell_type": "code",
      "metadata": {
        "colab": {
          "base_uri": "https://localhost:8080/"
        },
        "id": "QI0SFIKW2nsq",
        "outputId": "6b4dabfc-0799-4b2e-9de3-086065086add"
      },
      "source": [
        "%%time\r\n",
        "Xtrain_TOKENS, Xtrain_MASKS, Xtrain_SEGMENTS = TOKENIZATION(X_train['preprocessed_text'], tokenizer, MAXLENGTH)\r\n",
        "Xcv_TOKENS, Xcv_MASKS, Xcv_SEGMENTS = TOKENIZATION(X_cv['preprocessed_text'], tokenizer, MAXLENGTH)\r\n",
        "Xtest_TOKENS, Xtest_MASKS, Xtest_SEGMENTS = TOKENIZATION(test_df['preprocessed_text'], tokenizer, MAXLENGTH)"
      ],
      "execution_count": 34,
      "outputs": [
        {
          "output_type": "stream",
          "text": [
            "CPU times: user 4.63 s, sys: 20.2 ms, total: 4.65 s\n",
            "Wall time: 4.65 s\n"
          ],
          "name": "stdout"
        }
      ]
    },
    {
      "cell_type": "markdown",
      "metadata": {
        "id": "Kflp7M172zdQ"
      },
      "source": [
        "<h3>7.2 BERT Model</h3>"
      ]
    },
    {
      "cell_type": "code",
      "metadata": {
        "colab": {
          "base_uri": "https://localhost:8080/"
        },
        "id": "BhGJ3SFp2nv7",
        "outputId": "eab4d41e-2486-4dac-f691-7f091fa5a162"
      },
      "source": [
        "BERT_MODEL = transformers.TFBertModel.from_pretrained('bert-large-uncased')"
      ],
      "execution_count": 35,
      "outputs": [
        {
          "output_type": "stream",
          "text": [
            "Some layers from the model checkpoint at bert-large-uncased were not used when initializing TFBertModel: ['mlm___cls', 'nsp___cls']\n",
            "- This IS expected if you are initializing TFBertModel from the checkpoint of a model trained on another task or with another architecture (e.g. initializing a BertForSequenceClassification model from a BertForPreTraining model).\n",
            "- This IS NOT expected if you are initializing TFBertModel from the checkpoint of a model that you expect to be exactly identical (initializing a BertForSequenceClassification model from a BertForSequenceClassification model).\n",
            "All the layers of TFBertModel were initialized from the model checkpoint at bert-large-uncased.\n",
            "If your task is similar to the task the model of the checkpoint was trained on, you can already use TFBertModel for predictions without further training.\n"
          ],
          "name": "stderr"
        }
      ]
    },
    {
      "cell_type": "markdown",
      "metadata": {
        "id": "8uOcvvL0W_Z7"
      },
      "source": [
        "<b>BERT Model takes 3 inputs.</b>\r\n",
        "<pre>\r\n",
        "1. INPUT_WORD_IDs  - Indices of input sequence tokens in the vocabulary.\r\n",
        "\r\n",
        "2. INPUT_MASK - Mask to avoid performing attention on padding token indices. Mask values selected in [0, 1]\r\n",
        "    1 for tokens that are not masked,\r\n",
        "    0 for tokens that are masked.\r\n",
        "\r\n",
        "3. INPUT_SEGMENT_IDs - Segment token indices to indicate first and second portions of the inputs. \r\n",
        "    Indices are selected in [0, 1]\r\n",
        "    0 corresponds to a sentence A token,\r\n",
        "    1 corresponds to a sentence B token.\r\n",
        "</pre>\r\n"
      ]
    },
    {
      "cell_type": "code",
      "metadata": {
        "id": "LGI7UqnmGS7P"
      },
      "source": [
        "clear_session()\r\n",
        "INPUT_WORD_IDs = Input(shape=(MAXLENGTH,), dtype=tf.int32, name=\"input_word_ids\")\r\n",
        "INPUT_MASK = Input(shape=(MAXLENGTH,), dtype=tf.int32, name=\"input_mask\")\r\n",
        "INPUT_SEGMENT_IDs = Input(shape=(MAXLENGTH,), dtype=tf.int32, name=\"segment_ids\")\r\n",
        "OUTPUT = BERT_MODEL([INPUT_WORD_IDs, INPUT_MASK, INPUT_SEGMENT_IDs])\r\n",
        "DENSE_LAYER_1 = Dense(64,\r\n",
        "                    activation='relu',\r\n",
        "                    kernel_initializer=\"he_normal\",\r\n",
        "                    kernel_regularizer=regularizers.l2(0.001),\r\n",
        "                    name=\"dense_layer_1\")(OUTPUT[1])\r\n",
        "DROP1 = Dropout(0.2)(DENSE_LAYER_1)\r\n",
        "DENSE_LAYER_2 = Dense(32,\r\n",
        "                    activation='relu',  \r\n",
        "                    kernel_initializer=\"he_normal\",\r\n",
        "                    kernel_regularizer=regularizers.l2(0.001),\r\n",
        "                    name=\"dense_layer_2\")(DROP1)\r\n",
        "DROP2 = Dropout(0.2)(DENSE_LAYER_2)\r\n",
        "OUTPUT = Dense(2,activation='sigmoid')(DROP2)\r\n",
        "MODEL = Model(inputs=[INPUT_WORD_IDs,INPUT_MASK,INPUT_SEGMENT_IDs], outputs=OUTPUT)"
      ],
      "execution_count": 36,
      "outputs": []
    },
    {
      "cell_type": "code",
      "metadata": {
        "colab": {
          "base_uri": "https://localhost:8080/"
        },
        "id": "nHmS1OfbgFUJ",
        "outputId": "e3db9b7b-fc07-41d6-83f8-0c527b974033"
      },
      "source": [
        "MODEL.summary()"
      ],
      "execution_count": 37,
      "outputs": [
        {
          "output_type": "stream",
          "text": [
            "Model: \"functional_1\"\n",
            "__________________________________________________________________________________________________\n",
            "Layer (type)                    Output Shape         Param #     Connected to                     \n",
            "==================================================================================================\n",
            "input_word_ids (InputLayer)     [(None, 32)]         0                                            \n",
            "__________________________________________________________________________________________________\n",
            "input_mask (InputLayer)         [(None, 32)]         0                                            \n",
            "__________________________________________________________________________________________________\n",
            "segment_ids (InputLayer)        [(None, 32)]         0                                            \n",
            "__________________________________________________________________________________________________\n",
            "tf_bert_model (TFBertModel)     TFBaseModelOutputWit 335141888   input_word_ids[0][0]             \n",
            "                                                                 input_mask[0][0]                 \n",
            "                                                                 segment_ids[0][0]                \n",
            "__________________________________________________________________________________________________\n",
            "dense_layer_1 (Dense)           (None, 64)           65600       tf_bert_model[0][1]              \n",
            "__________________________________________________________________________________________________\n",
            "dropout (Dropout)               (None, 64)           0           dense_layer_1[0][0]              \n",
            "__________________________________________________________________________________________________\n",
            "dense_layer_2 (Dense)           (None, 32)           2080        dropout[0][0]                    \n",
            "__________________________________________________________________________________________________\n",
            "dropout_1 (Dropout)             (None, 32)           0           dense_layer_2[0][0]              \n",
            "__________________________________________________________________________________________________\n",
            "dense (Dense)                   (None, 2)            66          dropout_1[0][0]                  \n",
            "==================================================================================================\n",
            "Total params: 335,209,634\n",
            "Trainable params: 335,209,634\n",
            "Non-trainable params: 0\n",
            "__________________________________________________________________________________________________\n"
          ],
          "name": "stdout"
        }
      ]
    },
    {
      "cell_type": "code",
      "metadata": {
        "id": "EWcSGHtV0SwB"
      },
      "source": [
        "F1_Score = F1_SCORE(train_data=([Xtrain_TOKENS,Xtrain_MASKS,Xtrain_SEGMENTS], ytrain),\r\n",
        "                    val_data=([Xcv_TOKENS,Xcv_MASKS,Xcv_SEGMENTS],ycv))\r\n",
        "\r\n",
        "#earlystoping helps in stop the trsining when model starts overfitting\r\n",
        "earlyStopping = EarlyStopping(monitor='val_loss', #will be based on validation loss\r\n",
        "                              min_delta=0, \r\n",
        "                              patience=1, #patience 1 means only a small amount of overfitting is tolerated\r\n",
        "                              verbose=0, \r\n",
        "                              model='auto')"
      ],
      "execution_count": 38,
      "outputs": []
    },
    {
      "cell_type": "code",
      "metadata": {
        "colab": {
          "base_uri": "https://localhost:8080/"
        },
        "id": "8yQ9P5SA2-By",
        "outputId": "efa89243-4fae-4772-abd5-e2f5067bda64"
      },
      "source": [
        "MODEL.compile(optimizer=optimizers.Adam(learning_rate=6e-6),\r\n",
        "              loss='binary_crossentropy',\r\n",
        "              metrics=['accuracy'])\r\n",
        "\r\n",
        "MODEL.fit([Xtrain_TOKENS,Xtrain_MASKS,Xtrain_SEGMENTS],ytrain, \r\n",
        "          batch_size=64,\r\n",
        "          validation_data=([Xcv_TOKENS,Xcv_MASKS,Xcv_SEGMENTS],ycv),\r\n",
        "          verbose=1, \r\n",
        "          epochs=10,\r\n",
        "          callbacks=[F1_Score,earlyStopping])"
      ],
      "execution_count": 39,
      "outputs": [
        {
          "output_type": "stream",
          "text": [
            "Epoch 1/10\n",
            "94/94 [==============================] - ETA: 0s - loss: 0.8094 - accuracy: 0.6916 - F1 SCORE: [0.8005 0.7511]\n",
            "94/94 [==============================] - 277s 3s/step - loss: 0.8094 - accuracy: 0.6916 - val_loss: 0.6843 - val_accuracy: 0.7775\n",
            "Epoch 2/10\n",
            "94/94 [==============================] - ETA: 0s - loss: 0.6513 - accuracy: 0.8197 - F1 SCORE: [0.8458 0.7783]\n",
            "94/94 [==============================] - 265s 3s/step - loss: 0.6513 - accuracy: 0.8197 - val_loss: 0.6227 - val_accuracy: 0.8181\n",
            "Epoch 3/10\n",
            "94/94 [==============================] - ETA: 0s - loss: 0.6043 - accuracy: 0.8416 - F1 SCORE: [0.8567 0.787 ]\n",
            "94/94 [==============================] - 264s 3s/step - loss: 0.6043 - accuracy: 0.8416 - val_loss: 0.6008 - val_accuracy: 0.8288\n",
            "Epoch 4/10\n",
            "94/94 [==============================] - ETA: 0s - loss: 0.5783 - accuracy: 0.8550 - F1 SCORE: [0.8498 0.79  ]\n",
            "94/94 [==============================] - 264s 3s/step - loss: 0.5783 - accuracy: 0.8550 - val_loss: 0.6006 - val_accuracy: 0.8261\n",
            "Epoch 5/10\n",
            "94/94 [==============================] - ETA: 0s - loss: 0.5510 - accuracy: 0.8689 - F1 SCORE: [0.8576 0.7931]\n",
            "94/94 [==============================] - 264s 3s/step - loss: 0.5510 - accuracy: 0.8689 - val_loss: 0.5919 - val_accuracy: 0.8334\n",
            "Epoch 6/10\n",
            "94/94 [==============================] - ETA: 0s - loss: 0.5208 - accuracy: 0.8854 - F1 SCORE: [0.8637 0.7957]\n",
            "94/94 [==============================] - 264s 3s/step - loss: 0.5208 - accuracy: 0.8854 - val_loss: 0.5930 - val_accuracy: 0.8394\n"
          ],
          "name": "stdout"
        },
        {
          "output_type": "execute_result",
          "data": {
            "text/plain": [
              "<tensorflow.python.keras.callbacks.History at 0x7f902c40f3c8>"
            ]
          },
          "metadata": {
            "tags": []
          },
          "execution_count": 39
        }
      ]
    },
    {
      "cell_type": "markdown",
      "metadata": {
        "id": "UTcqH4-Doj-q"
      },
      "source": [
        "The above shown model is overfitting and can be reduced by hypertuning. \r\n"
      ]
    },
    {
      "cell_type": "markdown",
      "metadata": {
        "id": "tckUjQsUn3xE"
      },
      "source": [
        "<h2>8. Prediction</h2>"
      ]
    },
    {
      "cell_type": "code",
      "metadata": {
        "colab": {
          "base_uri": "https://localhost:8080/"
        },
        "id": "KT_AuJIB2-FW",
        "outputId": "9da9650c-9fb7-49b0-cd64-f1ada12ec0f3"
      },
      "source": [
        "#prediction\r\n",
        "ypred = MODEL.predict([Xcv_TOKENS,Xcv_MASKS,Xcv_SEGMENTS], batch_size=64,verbose=1)\r\n",
        "\r\n",
        "#getting threshold\r\n",
        "threshold = dict()\r\n",
        "for thresh in np.arange(0.1, 0.501, 0.05):\r\n",
        "    thresh = np.round(thresh, 2)\r\n",
        "    print(\"F1 score at threshold {0} is {1}\".format(thresh, round(list(sklearn.metrics.f1_score(ycv, (ypred>thresh).astype(int),\r\n",
        "                                                                                                average=None))[1],3)))\r\n",
        "    threshold[thresh] = round(list(sklearn.metrics.f1_score(ycv, \r\n",
        "                                                            (ypred>thresh).astype(int), \r\n",
        "                                                            average=None))[1],3)\r\n",
        "print(\"\\nThe best threshold is:\",max(threshold, \r\n",
        "                                     key=threshold.get))"
      ],
      "execution_count": 40,
      "outputs": [
        {
          "output_type": "stream",
          "text": [
            "24/24 [==============================] - 18s 750ms/step\n",
            "F1 score at threshold 0.1 is 0.705\n",
            "F1 score at threshold 0.15 is 0.754\n",
            "F1 score at threshold 0.2 is 0.779\n",
            "F1 score at threshold 0.25 is 0.791\n",
            "F1 score at threshold 0.3 is 0.795\n",
            "F1 score at threshold 0.35 is 0.796\n",
            "F1 score at threshold 0.4 is 0.8\n",
            "F1 score at threshold 0.45 is 0.8\n",
            "F1 score at threshold 0.5 is 0.796\n",
            "\n",
            "The best threshold is: 0.4\n"
          ],
          "name": "stdout"
        }
      ]
    },
    {
      "cell_type": "code",
      "metadata": {
        "colab": {
          "base_uri": "https://localhost:8080/"
        },
        "id": "A4sF8649BWGP",
        "outputId": "75401d51-a261-4944-e736-bc372ab7b6e1"
      },
      "source": [
        "#printing classification report using the best threshold\r\n",
        "ypredicted = (ypred>max(threshold, key=threshold.get)).astype(int)\r\n",
        "print(\"Classification Report:\\n\",sklearn.metrics.classification_report(ycv,ypredicted))"
      ],
      "execution_count": 41,
      "outputs": [
        {
          "output_type": "stream",
          "text": [
            "Classification Report:\n",
            "               precision    recall  f1-score   support\n",
            "\n",
            "           0       0.82      0.90      0.86       861\n",
            "           1       0.82      0.78      0.80       640\n",
            "\n",
            "   micro avg       0.82      0.85      0.84      1501\n",
            "   macro avg       0.82      0.84      0.83      1501\n",
            "weighted avg       0.82      0.85      0.83      1501\n",
            " samples avg       0.83      0.85      0.84      1501\n",
            "\n"
          ],
          "name": "stdout"
        }
      ]
    },
    {
      "cell_type": "code",
      "metadata": {
        "colab": {
          "base_uri": "https://localhost:8080/"
        },
        "id": "ZSVPeQf62-I0",
        "outputId": "3dc2a9ad-607c-4538-ed32-b1dc08b87260"
      },
      "source": [
        "#predicting test data\r\n",
        "ypredict = list()\r\n",
        "ypred = MODEL.predict([Xtest_TOKENS, Xtest_MASKS,Xtest_SEGMENTS], batch_size=64,verbose=1)\r\n",
        "for i in ypred:\r\n",
        "    ypredict.append((i[1]>max(threshold, key=threshold.get)).astype(int))\r\n",
        "\r\n",
        "#creating dataframe\r\n",
        "test = pd.DataFrame({\"id\":test_df[\"id\"].values})\r\n",
        "test['target'] = ypredict\r\n",
        "print(\"Test Output:\\n\",test['target'].value_counts())"
      ],
      "execution_count": 42,
      "outputs": [
        {
          "output_type": "stream",
          "text": [
            "51/51 [==============================] - 40s 784ms/step\n",
            "Test Output:\n",
            " 0    1962\n",
            "1    1301\n",
            "Name: target, dtype: int64\n"
          ],
          "name": "stdout"
        }
      ]
    },
    {
      "cell_type": "markdown",
      "metadata": {
        "id": "Byd-hmzckadw"
      },
      "source": [
        "<H1>Kaggle Submission</h1>"
      ]
    },
    {
      "cell_type": "code",
      "metadata": {
        "colab": {
          "base_uri": "https://localhost:8080/",
          "height": 117
        },
        "id": "BNSC1MgqkjqP",
        "outputId": "2385fe21-c270-4124-d1a6-3af00d0906f7"
      },
      "source": [
        "from IPython.display import Image\r\n",
        "Image(filename = \"../Submission.png\" ,width = 1000 , height = 100)"
      ],
      "execution_count": 46,
      "outputs": [
        {
          "output_type": "execute_result",
          "data": {
            "image/png": "[encoded data removed]",
            "text/plain": [
              "<IPython.core.display.Image object>"
            ]
          },
          "metadata": {
            "tags": [],
            "image/png": {
              "width": 1000,
              "height": 100
            }
          },
          "execution_count": 46
        }
      ]
    }
  ]
}
